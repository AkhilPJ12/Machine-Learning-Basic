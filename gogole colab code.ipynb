{
  "nbformat": 4,
  "nbformat_minor": 0,
  "metadata": {
    "colab": {
      "provenance": []
    },
    "kernelspec": {
      "name": "python3",
      "display_name": "Python 3"
    },
    "language_info": {
      "name": "python"
    }
  },
  "cells": [
    {
      "cell_type": "code",
      "execution_count": null,
      "metadata": {
        "id": "3aqF399tlC6o"
      },
      "outputs": [],
      "source": [
        "import pandas as pd\n",
        "import numpy as np\n",
        "df = pd.read_csv('Dataset.csv',sep=\",\")"
      ]
    },
    {
      "cell_type": "code",
      "source": [
        "# Data Inspection\n",
        "df.head()"
      ],
      "metadata": {
        "colab": {
          "base_uri": "https://localhost:8080/",
          "height": 206
        },
        "id": "ZI7Yo3MS2l-s",
        "outputId": "bf8c52bb-568f-4130-8623-369121ae1479"
      },
      "execution_count": null,
      "outputs": [
        {
          "output_type": "execute_result",
          "data": {
            "text/plain": [
              "   Feature_1  Feature_2  Feature_3  Feature_4  Feature_5  Feature_6  \\\n",
              "0        7.2      0.240       0.34        1.1      0.045        3.0   \n",
              "1        5.7      0.255       0.65        1.2      0.079       17.0   \n",
              "2        6.7      0.150       0.32        7.9      0.034       17.0   \n",
              "3        9.2      0.230       0.30        1.1      0.031       40.0   \n",
              "4        7.7      0.240       0.30        1.4      0.041       15.0   \n",
              "\n",
              "   Feature_7  Feature_8  Feature_9  Feature_10  Feature_11  Target_out  \n",
              "0       64.0    0.99130       3.23        0.51        11.4           5  \n",
              "1      137.0    0.99307       3.20        0.42         9.4           5  \n",
              "2       81.0    0.99512       3.29        0.31        10.0           6  \n",
              "3       99.0    0.99290       2.94        0.30        10.4           6  \n",
              "4      102.0    0.99290       3.26        0.53        10.4           6  "
            ],
            "text/html": [
              "\n",
              "  <div id=\"df-66b53841-9423-4129-8dab-c80405645fe4\">\n",
              "    <div class=\"colab-df-container\">\n",
              "      <div>\n",
              "<style scoped>\n",
              "    .dataframe tbody tr th:only-of-type {\n",
              "        vertical-align: middle;\n",
              "    }\n",
              "\n",
              "    .dataframe tbody tr th {\n",
              "        vertical-align: top;\n",
              "    }\n",
              "\n",
              "    .dataframe thead th {\n",
              "        text-align: right;\n",
              "    }\n",
              "</style>\n",
              "<table border=\"1\" class=\"dataframe\">\n",
              "  <thead>\n",
              "    <tr style=\"text-align: right;\">\n",
              "      <th></th>\n",
              "      <th>Feature_1</th>\n",
              "      <th>Feature_2</th>\n",
              "      <th>Feature_3</th>\n",
              "      <th>Feature_4</th>\n",
              "      <th>Feature_5</th>\n",
              "      <th>Feature_6</th>\n",
              "      <th>Feature_7</th>\n",
              "      <th>Feature_8</th>\n",
              "      <th>Feature_9</th>\n",
              "      <th>Feature_10</th>\n",
              "      <th>Feature_11</th>\n",
              "      <th>Target_out</th>\n",
              "    </tr>\n",
              "  </thead>\n",
              "  <tbody>\n",
              "    <tr>\n",
              "      <th>0</th>\n",
              "      <td>7.2</td>\n",
              "      <td>0.240</td>\n",
              "      <td>0.34</td>\n",
              "      <td>1.1</td>\n",
              "      <td>0.045</td>\n",
              "      <td>3.0</td>\n",
              "      <td>64.0</td>\n",
              "      <td>0.99130</td>\n",
              "      <td>3.23</td>\n",
              "      <td>0.51</td>\n",
              "      <td>11.4</td>\n",
              "      <td>5</td>\n",
              "    </tr>\n",
              "    <tr>\n",
              "      <th>1</th>\n",
              "      <td>5.7</td>\n",
              "      <td>0.255</td>\n",
              "      <td>0.65</td>\n",
              "      <td>1.2</td>\n",
              "      <td>0.079</td>\n",
              "      <td>17.0</td>\n",
              "      <td>137.0</td>\n",
              "      <td>0.99307</td>\n",
              "      <td>3.20</td>\n",
              "      <td>0.42</td>\n",
              "      <td>9.4</td>\n",
              "      <td>5</td>\n",
              "    </tr>\n",
              "    <tr>\n",
              "      <th>2</th>\n",
              "      <td>6.7</td>\n",
              "      <td>0.150</td>\n",
              "      <td>0.32</td>\n",
              "      <td>7.9</td>\n",
              "      <td>0.034</td>\n",
              "      <td>17.0</td>\n",
              "      <td>81.0</td>\n",
              "      <td>0.99512</td>\n",
              "      <td>3.29</td>\n",
              "      <td>0.31</td>\n",
              "      <td>10.0</td>\n",
              "      <td>6</td>\n",
              "    </tr>\n",
              "    <tr>\n",
              "      <th>3</th>\n",
              "      <td>9.2</td>\n",
              "      <td>0.230</td>\n",
              "      <td>0.30</td>\n",
              "      <td>1.1</td>\n",
              "      <td>0.031</td>\n",
              "      <td>40.0</td>\n",
              "      <td>99.0</td>\n",
              "      <td>0.99290</td>\n",
              "      <td>2.94</td>\n",
              "      <td>0.30</td>\n",
              "      <td>10.4</td>\n",
              "      <td>6</td>\n",
              "    </tr>\n",
              "    <tr>\n",
              "      <th>4</th>\n",
              "      <td>7.7</td>\n",
              "      <td>0.240</td>\n",
              "      <td>0.30</td>\n",
              "      <td>1.4</td>\n",
              "      <td>0.041</td>\n",
              "      <td>15.0</td>\n",
              "      <td>102.0</td>\n",
              "      <td>0.99290</td>\n",
              "      <td>3.26</td>\n",
              "      <td>0.53</td>\n",
              "      <td>10.4</td>\n",
              "      <td>6</td>\n",
              "    </tr>\n",
              "  </tbody>\n",
              "</table>\n",
              "</div>\n",
              "      <button class=\"colab-df-convert\" onclick=\"convertToInteractive('df-66b53841-9423-4129-8dab-c80405645fe4')\"\n",
              "              title=\"Convert this dataframe to an interactive table.\"\n",
              "              style=\"display:none;\">\n",
              "        \n",
              "  <svg xmlns=\"http://www.w3.org/2000/svg\" height=\"24px\"viewBox=\"0 0 24 24\"\n",
              "       width=\"24px\">\n",
              "    <path d=\"M0 0h24v24H0V0z\" fill=\"none\"/>\n",
              "    <path d=\"M18.56 5.44l.94 2.06.94-2.06 2.06-.94-2.06-.94-.94-2.06-.94 2.06-2.06.94zm-11 1L8.5 8.5l.94-2.06 2.06-.94-2.06-.94L8.5 2.5l-.94 2.06-2.06.94zm10 10l.94 2.06.94-2.06 2.06-.94-2.06-.94-.94-2.06-.94 2.06-2.06.94z\"/><path d=\"M17.41 7.96l-1.37-1.37c-.4-.4-.92-.59-1.43-.59-.52 0-1.04.2-1.43.59L10.3 9.45l-7.72 7.72c-.78.78-.78 2.05 0 2.83L4 21.41c.39.39.9.59 1.41.59.51 0 1.02-.2 1.41-.59l7.78-7.78 2.81-2.81c.8-.78.8-2.07 0-2.86zM5.41 20L4 18.59l7.72-7.72 1.47 1.35L5.41 20z\"/>\n",
              "  </svg>\n",
              "      </button>\n",
              "      \n",
              "  <style>\n",
              "    .colab-df-container {\n",
              "      display:flex;\n",
              "      flex-wrap:wrap;\n",
              "      gap: 12px;\n",
              "    }\n",
              "\n",
              "    .colab-df-convert {\n",
              "      background-color: #E8F0FE;\n",
              "      border: none;\n",
              "      border-radius: 50%;\n",
              "      cursor: pointer;\n",
              "      display: none;\n",
              "      fill: #1967D2;\n",
              "      height: 32px;\n",
              "      padding: 0 0 0 0;\n",
              "      width: 32px;\n",
              "    }\n",
              "\n",
              "    .colab-df-convert:hover {\n",
              "      background-color: #E2EBFA;\n",
              "      box-shadow: 0px 1px 2px rgba(60, 64, 67, 0.3), 0px 1px 3px 1px rgba(60, 64, 67, 0.15);\n",
              "      fill: #174EA6;\n",
              "    }\n",
              "\n",
              "    [theme=dark] .colab-df-convert {\n",
              "      background-color: #3B4455;\n",
              "      fill: #D2E3FC;\n",
              "    }\n",
              "\n",
              "    [theme=dark] .colab-df-convert:hover {\n",
              "      background-color: #434B5C;\n",
              "      box-shadow: 0px 1px 3px 1px rgba(0, 0, 0, 0.15);\n",
              "      filter: drop-shadow(0px 1px 2px rgba(0, 0, 0, 0.3));\n",
              "      fill: #FFFFFF;\n",
              "    }\n",
              "  </style>\n",
              "\n",
              "      <script>\n",
              "        const buttonEl =\n",
              "          document.querySelector('#df-66b53841-9423-4129-8dab-c80405645fe4 button.colab-df-convert');\n",
              "        buttonEl.style.display =\n",
              "          google.colab.kernel.accessAllowed ? 'block' : 'none';\n",
              "\n",
              "        async function convertToInteractive(key) {\n",
              "          const element = document.querySelector('#df-66b53841-9423-4129-8dab-c80405645fe4');\n",
              "          const dataTable =\n",
              "            await google.colab.kernel.invokeFunction('convertToInteractive',\n",
              "                                                     [key], {});\n",
              "          if (!dataTable) return;\n",
              "\n",
              "          const docLinkHtml = 'Like what you see? Visit the ' +\n",
              "            '<a target=\"_blank\" href=https://colab.research.google.com/notebooks/data_table.ipynb>data table notebook</a>'\n",
              "            + ' to learn more about interactive tables.';\n",
              "          element.innerHTML = '';\n",
              "          dataTable['output_type'] = 'display_data';\n",
              "          await google.colab.output.renderOutput(dataTable, element);\n",
              "          const docLink = document.createElement('div');\n",
              "          docLink.innerHTML = docLinkHtml;\n",
              "          element.appendChild(docLink);\n",
              "        }\n",
              "      </script>\n",
              "    </div>\n",
              "  </div>\n",
              "  "
            ]
          },
          "metadata": {},
          "execution_count": 124
        }
      ]
    },
    {
      "cell_type": "code",
      "source": [
        "df.columns"
      ],
      "metadata": {
        "colab": {
          "base_uri": "https://localhost:8080/"
        },
        "id": "3fGbq1hf3K6d",
        "outputId": "aef8e2eb-8345-4e10-9179-ee121ae9578a"
      },
      "execution_count": null,
      "outputs": [
        {
          "output_type": "execute_result",
          "data": {
            "text/plain": [
              "Index(['Feature_1', 'Feature_2', 'Feature_3', 'Feature_4', 'Feature_5',\n",
              "       'Feature_6', 'Feature_7', 'Feature_8', 'Feature_9', 'Feature_10',\n",
              "       'Feature_11', 'Target_out'],\n",
              "      dtype='object')"
            ]
          },
          "metadata": {},
          "execution_count": 3
        }
      ]
    },
    {
      "cell_type": "code",
      "source": [
        "df.info()"
      ],
      "metadata": {
        "colab": {
          "base_uri": "https://localhost:8080/"
        },
        "id": "n8KsffDQ32xd",
        "outputId": "2941c74c-9219-4e46-d5bd-9c09e5f20184"
      },
      "execution_count": null,
      "outputs": [
        {
          "output_type": "stream",
          "name": "stdout",
          "text": [
            "<class 'pandas.core.frame.DataFrame'>\n",
            "RangeIndex: 4898 entries, 0 to 4897\n",
            "Data columns (total 12 columns):\n",
            " #   Column      Non-Null Count  Dtype  \n",
            "---  ------      --------------  -----  \n",
            " 0   Feature_1   4898 non-null   float64\n",
            " 1   Feature_2   4898 non-null   float64\n",
            " 2   Feature_3   4898 non-null   float64\n",
            " 3   Feature_4   4898 non-null   float64\n",
            " 4   Feature_5   4898 non-null   float64\n",
            " 5   Feature_6   4898 non-null   float64\n",
            " 6   Feature_7   4898 non-null   float64\n",
            " 7   Feature_8   4898 non-null   float64\n",
            " 8   Feature_9   4898 non-null   float64\n",
            " 9   Feature_10  4898 non-null   float64\n",
            " 10  Feature_11  4898 non-null   float64\n",
            " 11  Target_out  4898 non-null   int64  \n",
            "dtypes: float64(11), int64(1)\n",
            "memory usage: 459.3 KB\n"
          ]
        }
      ]
    },
    {
      "cell_type": "code",
      "source": [
        "df.describe()"
      ],
      "metadata": {
        "colab": {
          "base_uri": "https://localhost:8080/",
          "height": 300
        },
        "id": "d09DCQGS39No",
        "outputId": "e23a7108-09a6-4c65-dd59-c24f99bf0cf6"
      },
      "execution_count": null,
      "outputs": [
        {
          "output_type": "execute_result",
          "data": {
            "text/plain": [
              "         Feature_1    Feature_2    Feature_3    Feature_4    Feature_5  \\\n",
              "count  4898.000000  4898.000000  4898.000000  4898.000000  4898.000000   \n",
              "mean      6.854788     0.278241     0.334192     6.391415     0.045772   \n",
              "std       0.843868     0.100795     0.121020     5.072058     0.021848   \n",
              "min       3.800000     0.080000     0.000000     0.600000     0.009000   \n",
              "25%       6.300000     0.210000     0.270000     1.700000     0.036000   \n",
              "50%       6.800000     0.260000     0.320000     5.200000     0.043000   \n",
              "75%       7.300000     0.320000     0.390000     9.900000     0.050000   \n",
              "max      14.200000     1.100000     1.660000    65.800000     0.346000   \n",
              "\n",
              "         Feature_6    Feature_7    Feature_8    Feature_9   Feature_10  \\\n",
              "count  4898.000000  4898.000000  4898.000000  4898.000000  4898.000000   \n",
              "mean     35.308085   138.360657     0.994027     3.188267     0.489847   \n",
              "std      17.007137    42.498065     0.002991     0.151001     0.114126   \n",
              "min       2.000000     9.000000     0.987110     2.720000     0.220000   \n",
              "25%      23.000000   108.000000     0.991723     3.090000     0.410000   \n",
              "50%      34.000000   134.000000     0.993740     3.180000     0.470000   \n",
              "75%      46.000000   167.000000     0.996100     3.280000     0.550000   \n",
              "max     289.000000   440.000000     1.038980     3.820000     1.080000   \n",
              "\n",
              "        Feature_11   Target_out  \n",
              "count  4898.000000  4898.000000  \n",
              "mean     10.514267     5.877909  \n",
              "std       1.230621     0.885639  \n",
              "min       8.000000     3.000000  \n",
              "25%       9.500000     5.000000  \n",
              "50%      10.400000     6.000000  \n",
              "75%      11.400000     6.000000  \n",
              "max      14.200000     9.000000  "
            ],
            "text/html": [
              "\n",
              "  <div id=\"df-067fd8ab-d404-4f66-b181-57e31209eba0\">\n",
              "    <div class=\"colab-df-container\">\n",
              "      <div>\n",
              "<style scoped>\n",
              "    .dataframe tbody tr th:only-of-type {\n",
              "        vertical-align: middle;\n",
              "    }\n",
              "\n",
              "    .dataframe tbody tr th {\n",
              "        vertical-align: top;\n",
              "    }\n",
              "\n",
              "    .dataframe thead th {\n",
              "        text-align: right;\n",
              "    }\n",
              "</style>\n",
              "<table border=\"1\" class=\"dataframe\">\n",
              "  <thead>\n",
              "    <tr style=\"text-align: right;\">\n",
              "      <th></th>\n",
              "      <th>Feature_1</th>\n",
              "      <th>Feature_2</th>\n",
              "      <th>Feature_3</th>\n",
              "      <th>Feature_4</th>\n",
              "      <th>Feature_5</th>\n",
              "      <th>Feature_6</th>\n",
              "      <th>Feature_7</th>\n",
              "      <th>Feature_8</th>\n",
              "      <th>Feature_9</th>\n",
              "      <th>Feature_10</th>\n",
              "      <th>Feature_11</th>\n",
              "      <th>Target_out</th>\n",
              "    </tr>\n",
              "  </thead>\n",
              "  <tbody>\n",
              "    <tr>\n",
              "      <th>count</th>\n",
              "      <td>4898.000000</td>\n",
              "      <td>4898.000000</td>\n",
              "      <td>4898.000000</td>\n",
              "      <td>4898.000000</td>\n",
              "      <td>4898.000000</td>\n",
              "      <td>4898.000000</td>\n",
              "      <td>4898.000000</td>\n",
              "      <td>4898.000000</td>\n",
              "      <td>4898.000000</td>\n",
              "      <td>4898.000000</td>\n",
              "      <td>4898.000000</td>\n",
              "      <td>4898.000000</td>\n",
              "    </tr>\n",
              "    <tr>\n",
              "      <th>mean</th>\n",
              "      <td>6.854788</td>\n",
              "      <td>0.278241</td>\n",
              "      <td>0.334192</td>\n",
              "      <td>6.391415</td>\n",
              "      <td>0.045772</td>\n",
              "      <td>35.308085</td>\n",
              "      <td>138.360657</td>\n",
              "      <td>0.994027</td>\n",
              "      <td>3.188267</td>\n",
              "      <td>0.489847</td>\n",
              "      <td>10.514267</td>\n",
              "      <td>5.877909</td>\n",
              "    </tr>\n",
              "    <tr>\n",
              "      <th>std</th>\n",
              "      <td>0.843868</td>\n",
              "      <td>0.100795</td>\n",
              "      <td>0.121020</td>\n",
              "      <td>5.072058</td>\n",
              "      <td>0.021848</td>\n",
              "      <td>17.007137</td>\n",
              "      <td>42.498065</td>\n",
              "      <td>0.002991</td>\n",
              "      <td>0.151001</td>\n",
              "      <td>0.114126</td>\n",
              "      <td>1.230621</td>\n",
              "      <td>0.885639</td>\n",
              "    </tr>\n",
              "    <tr>\n",
              "      <th>min</th>\n",
              "      <td>3.800000</td>\n",
              "      <td>0.080000</td>\n",
              "      <td>0.000000</td>\n",
              "      <td>0.600000</td>\n",
              "      <td>0.009000</td>\n",
              "      <td>2.000000</td>\n",
              "      <td>9.000000</td>\n",
              "      <td>0.987110</td>\n",
              "      <td>2.720000</td>\n",
              "      <td>0.220000</td>\n",
              "      <td>8.000000</td>\n",
              "      <td>3.000000</td>\n",
              "    </tr>\n",
              "    <tr>\n",
              "      <th>25%</th>\n",
              "      <td>6.300000</td>\n",
              "      <td>0.210000</td>\n",
              "      <td>0.270000</td>\n",
              "      <td>1.700000</td>\n",
              "      <td>0.036000</td>\n",
              "      <td>23.000000</td>\n",
              "      <td>108.000000</td>\n",
              "      <td>0.991723</td>\n",
              "      <td>3.090000</td>\n",
              "      <td>0.410000</td>\n",
              "      <td>9.500000</td>\n",
              "      <td>5.000000</td>\n",
              "    </tr>\n",
              "    <tr>\n",
              "      <th>50%</th>\n",
              "      <td>6.800000</td>\n",
              "      <td>0.260000</td>\n",
              "      <td>0.320000</td>\n",
              "      <td>5.200000</td>\n",
              "      <td>0.043000</td>\n",
              "      <td>34.000000</td>\n",
              "      <td>134.000000</td>\n",
              "      <td>0.993740</td>\n",
              "      <td>3.180000</td>\n",
              "      <td>0.470000</td>\n",
              "      <td>10.400000</td>\n",
              "      <td>6.000000</td>\n",
              "    </tr>\n",
              "    <tr>\n",
              "      <th>75%</th>\n",
              "      <td>7.300000</td>\n",
              "      <td>0.320000</td>\n",
              "      <td>0.390000</td>\n",
              "      <td>9.900000</td>\n",
              "      <td>0.050000</td>\n",
              "      <td>46.000000</td>\n",
              "      <td>167.000000</td>\n",
              "      <td>0.996100</td>\n",
              "      <td>3.280000</td>\n",
              "      <td>0.550000</td>\n",
              "      <td>11.400000</td>\n",
              "      <td>6.000000</td>\n",
              "    </tr>\n",
              "    <tr>\n",
              "      <th>max</th>\n",
              "      <td>14.200000</td>\n",
              "      <td>1.100000</td>\n",
              "      <td>1.660000</td>\n",
              "      <td>65.800000</td>\n",
              "      <td>0.346000</td>\n",
              "      <td>289.000000</td>\n",
              "      <td>440.000000</td>\n",
              "      <td>1.038980</td>\n",
              "      <td>3.820000</td>\n",
              "      <td>1.080000</td>\n",
              "      <td>14.200000</td>\n",
              "      <td>9.000000</td>\n",
              "    </tr>\n",
              "  </tbody>\n",
              "</table>\n",
              "</div>\n",
              "      <button class=\"colab-df-convert\" onclick=\"convertToInteractive('df-067fd8ab-d404-4f66-b181-57e31209eba0')\"\n",
              "              title=\"Convert this dataframe to an interactive table.\"\n",
              "              style=\"display:none;\">\n",
              "        \n",
              "  <svg xmlns=\"http://www.w3.org/2000/svg\" height=\"24px\"viewBox=\"0 0 24 24\"\n",
              "       width=\"24px\">\n",
              "    <path d=\"M0 0h24v24H0V0z\" fill=\"none\"/>\n",
              "    <path d=\"M18.56 5.44l.94 2.06.94-2.06 2.06-.94-2.06-.94-.94-2.06-.94 2.06-2.06.94zm-11 1L8.5 8.5l.94-2.06 2.06-.94-2.06-.94L8.5 2.5l-.94 2.06-2.06.94zm10 10l.94 2.06.94-2.06 2.06-.94-2.06-.94-.94-2.06-.94 2.06-2.06.94z\"/><path d=\"M17.41 7.96l-1.37-1.37c-.4-.4-.92-.59-1.43-.59-.52 0-1.04.2-1.43.59L10.3 9.45l-7.72 7.72c-.78.78-.78 2.05 0 2.83L4 21.41c.39.39.9.59 1.41.59.51 0 1.02-.2 1.41-.59l7.78-7.78 2.81-2.81c.8-.78.8-2.07 0-2.86zM5.41 20L4 18.59l7.72-7.72 1.47 1.35L5.41 20z\"/>\n",
              "  </svg>\n",
              "      </button>\n",
              "      \n",
              "  <style>\n",
              "    .colab-df-container {\n",
              "      display:flex;\n",
              "      flex-wrap:wrap;\n",
              "      gap: 12px;\n",
              "    }\n",
              "\n",
              "    .colab-df-convert {\n",
              "      background-color: #E8F0FE;\n",
              "      border: none;\n",
              "      border-radius: 50%;\n",
              "      cursor: pointer;\n",
              "      display: none;\n",
              "      fill: #1967D2;\n",
              "      height: 32px;\n",
              "      padding: 0 0 0 0;\n",
              "      width: 32px;\n",
              "    }\n",
              "\n",
              "    .colab-df-convert:hover {\n",
              "      background-color: #E2EBFA;\n",
              "      box-shadow: 0px 1px 2px rgba(60, 64, 67, 0.3), 0px 1px 3px 1px rgba(60, 64, 67, 0.15);\n",
              "      fill: #174EA6;\n",
              "    }\n",
              "\n",
              "    [theme=dark] .colab-df-convert {\n",
              "      background-color: #3B4455;\n",
              "      fill: #D2E3FC;\n",
              "    }\n",
              "\n",
              "    [theme=dark] .colab-df-convert:hover {\n",
              "      background-color: #434B5C;\n",
              "      box-shadow: 0px 1px 3px 1px rgba(0, 0, 0, 0.15);\n",
              "      filter: drop-shadow(0px 1px 2px rgba(0, 0, 0, 0.3));\n",
              "      fill: #FFFFFF;\n",
              "    }\n",
              "  </style>\n",
              "\n",
              "      <script>\n",
              "        const buttonEl =\n",
              "          document.querySelector('#df-067fd8ab-d404-4f66-b181-57e31209eba0 button.colab-df-convert');\n",
              "        buttonEl.style.display =\n",
              "          google.colab.kernel.accessAllowed ? 'block' : 'none';\n",
              "\n",
              "        async function convertToInteractive(key) {\n",
              "          const element = document.querySelector('#df-067fd8ab-d404-4f66-b181-57e31209eba0');\n",
              "          const dataTable =\n",
              "            await google.colab.kernel.invokeFunction('convertToInteractive',\n",
              "                                                     [key], {});\n",
              "          if (!dataTable) return;\n",
              "\n",
              "          const docLinkHtml = 'Like what you see? Visit the ' +\n",
              "            '<a target=\"_blank\" href=https://colab.research.google.com/notebooks/data_table.ipynb>data table notebook</a>'\n",
              "            + ' to learn more about interactive tables.';\n",
              "          element.innerHTML = '';\n",
              "          dataTable['output_type'] = 'display_data';\n",
              "          await google.colab.output.renderOutput(dataTable, element);\n",
              "          const docLink = document.createElement('div');\n",
              "          docLink.innerHTML = docLinkHtml;\n",
              "          element.appendChild(docLink);\n",
              "        }\n",
              "      </script>\n",
              "    </div>\n",
              "  </div>\n",
              "  "
            ]
          },
          "metadata": {},
          "execution_count": 126
        }
      ]
    },
    {
      "cell_type": "code",
      "source": [
        "# Check the correlation between variables\n",
        "df1=df.corr(method='pearson', min_periods=1)\n",
        "df1"
      ],
      "metadata": {
        "colab": {
          "base_uri": "https://localhost:8080/",
          "height": 426
        },
        "id": "fweo9z9x947h",
        "outputId": "05dd4717-8610-4b1e-ca4b-2ec911f53e84"
      },
      "execution_count": null,
      "outputs": [
        {
          "output_type": "execute_result",
          "data": {
            "text/plain": [
              "            Feature_1  Feature_2  Feature_3  Feature_4  Feature_5  Feature_6  \\\n",
              "Feature_1    1.000000  -0.022697   0.289181   0.089021   0.023086  -0.049396   \n",
              "Feature_2   -0.022697   1.000000  -0.149472   0.064286   0.070512  -0.097012   \n",
              "Feature_3    0.289181  -0.149472   1.000000   0.094212   0.114364   0.094077   \n",
              "Feature_4    0.089021   0.064286   0.094212   1.000000   0.088685   0.299098   \n",
              "Feature_5    0.023086   0.070512   0.114364   0.088685   1.000000   0.101392   \n",
              "Feature_6   -0.049396  -0.097012   0.094077   0.299098   0.101392   1.000000   \n",
              "Feature_7    0.091070   0.089261   0.121131   0.401439   0.198910   0.615501   \n",
              "Feature_8    0.265331   0.027114   0.149503   0.838966   0.257211   0.294210   \n",
              "Feature_9   -0.425858  -0.031915  -0.163748  -0.194133  -0.090439  -0.000618   \n",
              "Feature_10  -0.017143  -0.035728   0.062331  -0.026664   0.016763   0.059217   \n",
              "Feature_11  -0.120881   0.067718  -0.075729  -0.450631  -0.360189  -0.250104   \n",
              "Target_out  -0.113663  -0.194723  -0.009209  -0.097577  -0.209934   0.008158   \n",
              "\n",
              "            Feature_7  Feature_8  Feature_9  Feature_10  Feature_11  \\\n",
              "Feature_1    0.091070   0.265331  -0.425858   -0.017143   -0.120881   \n",
              "Feature_2    0.089261   0.027114  -0.031915   -0.035728    0.067718   \n",
              "Feature_3    0.121131   0.149503  -0.163748    0.062331   -0.075729   \n",
              "Feature_4    0.401439   0.838966  -0.194133   -0.026664   -0.450631   \n",
              "Feature_5    0.198910   0.257211  -0.090439    0.016763   -0.360189   \n",
              "Feature_6    0.615501   0.294210  -0.000618    0.059217   -0.250104   \n",
              "Feature_7    1.000000   0.529881   0.002321    0.134562   -0.448892   \n",
              "Feature_8    0.529881   1.000000  -0.093591    0.074493   -0.780138   \n",
              "Feature_9    0.002321  -0.093591   1.000000    0.155951    0.121432   \n",
              "Feature_10   0.134562   0.074493   0.155951    1.000000   -0.017433   \n",
              "Feature_11  -0.448892  -0.780138   0.121432   -0.017433    1.000000   \n",
              "Target_out  -0.174737  -0.307123   0.099427    0.053678    0.435575   \n",
              "\n",
              "            Target_out  \n",
              "Feature_1    -0.113663  \n",
              "Feature_2    -0.194723  \n",
              "Feature_3    -0.009209  \n",
              "Feature_4    -0.097577  \n",
              "Feature_5    -0.209934  \n",
              "Feature_6     0.008158  \n",
              "Feature_7    -0.174737  \n",
              "Feature_8    -0.307123  \n",
              "Feature_9     0.099427  \n",
              "Feature_10    0.053678  \n",
              "Feature_11    0.435575  \n",
              "Target_out    1.000000  "
            ],
            "text/html": [
              "\n",
              "  <div id=\"df-e77505db-2f65-498a-9c0c-05121f921832\">\n",
              "    <div class=\"colab-df-container\">\n",
              "      <div>\n",
              "<style scoped>\n",
              "    .dataframe tbody tr th:only-of-type {\n",
              "        vertical-align: middle;\n",
              "    }\n",
              "\n",
              "    .dataframe tbody tr th {\n",
              "        vertical-align: top;\n",
              "    }\n",
              "\n",
              "    .dataframe thead th {\n",
              "        text-align: right;\n",
              "    }\n",
              "</style>\n",
              "<table border=\"1\" class=\"dataframe\">\n",
              "  <thead>\n",
              "    <tr style=\"text-align: right;\">\n",
              "      <th></th>\n",
              "      <th>Feature_1</th>\n",
              "      <th>Feature_2</th>\n",
              "      <th>Feature_3</th>\n",
              "      <th>Feature_4</th>\n",
              "      <th>Feature_5</th>\n",
              "      <th>Feature_6</th>\n",
              "      <th>Feature_7</th>\n",
              "      <th>Feature_8</th>\n",
              "      <th>Feature_9</th>\n",
              "      <th>Feature_10</th>\n",
              "      <th>Feature_11</th>\n",
              "      <th>Target_out</th>\n",
              "    </tr>\n",
              "  </thead>\n",
              "  <tbody>\n",
              "    <tr>\n",
              "      <th>Feature_1</th>\n",
              "      <td>1.000000</td>\n",
              "      <td>-0.022697</td>\n",
              "      <td>0.289181</td>\n",
              "      <td>0.089021</td>\n",
              "      <td>0.023086</td>\n",
              "      <td>-0.049396</td>\n",
              "      <td>0.091070</td>\n",
              "      <td>0.265331</td>\n",
              "      <td>-0.425858</td>\n",
              "      <td>-0.017143</td>\n",
              "      <td>-0.120881</td>\n",
              "      <td>-0.113663</td>\n",
              "    </tr>\n",
              "    <tr>\n",
              "      <th>Feature_2</th>\n",
              "      <td>-0.022697</td>\n",
              "      <td>1.000000</td>\n",
              "      <td>-0.149472</td>\n",
              "      <td>0.064286</td>\n",
              "      <td>0.070512</td>\n",
              "      <td>-0.097012</td>\n",
              "      <td>0.089261</td>\n",
              "      <td>0.027114</td>\n",
              "      <td>-0.031915</td>\n",
              "      <td>-0.035728</td>\n",
              "      <td>0.067718</td>\n",
              "      <td>-0.194723</td>\n",
              "    </tr>\n",
              "    <tr>\n",
              "      <th>Feature_3</th>\n",
              "      <td>0.289181</td>\n",
              "      <td>-0.149472</td>\n",
              "      <td>1.000000</td>\n",
              "      <td>0.094212</td>\n",
              "      <td>0.114364</td>\n",
              "      <td>0.094077</td>\n",
              "      <td>0.121131</td>\n",
              "      <td>0.149503</td>\n",
              "      <td>-0.163748</td>\n",
              "      <td>0.062331</td>\n",
              "      <td>-0.075729</td>\n",
              "      <td>-0.009209</td>\n",
              "    </tr>\n",
              "    <tr>\n",
              "      <th>Feature_4</th>\n",
              "      <td>0.089021</td>\n",
              "      <td>0.064286</td>\n",
              "      <td>0.094212</td>\n",
              "      <td>1.000000</td>\n",
              "      <td>0.088685</td>\n",
              "      <td>0.299098</td>\n",
              "      <td>0.401439</td>\n",
              "      <td>0.838966</td>\n",
              "      <td>-0.194133</td>\n",
              "      <td>-0.026664</td>\n",
              "      <td>-0.450631</td>\n",
              "      <td>-0.097577</td>\n",
              "    </tr>\n",
              "    <tr>\n",
              "      <th>Feature_5</th>\n",
              "      <td>0.023086</td>\n",
              "      <td>0.070512</td>\n",
              "      <td>0.114364</td>\n",
              "      <td>0.088685</td>\n",
              "      <td>1.000000</td>\n",
              "      <td>0.101392</td>\n",
              "      <td>0.198910</td>\n",
              "      <td>0.257211</td>\n",
              "      <td>-0.090439</td>\n",
              "      <td>0.016763</td>\n",
              "      <td>-0.360189</td>\n",
              "      <td>-0.209934</td>\n",
              "    </tr>\n",
              "    <tr>\n",
              "      <th>Feature_6</th>\n",
              "      <td>-0.049396</td>\n",
              "      <td>-0.097012</td>\n",
              "      <td>0.094077</td>\n",
              "      <td>0.299098</td>\n",
              "      <td>0.101392</td>\n",
              "      <td>1.000000</td>\n",
              "      <td>0.615501</td>\n",
              "      <td>0.294210</td>\n",
              "      <td>-0.000618</td>\n",
              "      <td>0.059217</td>\n",
              "      <td>-0.250104</td>\n",
              "      <td>0.008158</td>\n",
              "    </tr>\n",
              "    <tr>\n",
              "      <th>Feature_7</th>\n",
              "      <td>0.091070</td>\n",
              "      <td>0.089261</td>\n",
              "      <td>0.121131</td>\n",
              "      <td>0.401439</td>\n",
              "      <td>0.198910</td>\n",
              "      <td>0.615501</td>\n",
              "      <td>1.000000</td>\n",
              "      <td>0.529881</td>\n",
              "      <td>0.002321</td>\n",
              "      <td>0.134562</td>\n",
              "      <td>-0.448892</td>\n",
              "      <td>-0.174737</td>\n",
              "    </tr>\n",
              "    <tr>\n",
              "      <th>Feature_8</th>\n",
              "      <td>0.265331</td>\n",
              "      <td>0.027114</td>\n",
              "      <td>0.149503</td>\n",
              "      <td>0.838966</td>\n",
              "      <td>0.257211</td>\n",
              "      <td>0.294210</td>\n",
              "      <td>0.529881</td>\n",
              "      <td>1.000000</td>\n",
              "      <td>-0.093591</td>\n",
              "      <td>0.074493</td>\n",
              "      <td>-0.780138</td>\n",
              "      <td>-0.307123</td>\n",
              "    </tr>\n",
              "    <tr>\n",
              "      <th>Feature_9</th>\n",
              "      <td>-0.425858</td>\n",
              "      <td>-0.031915</td>\n",
              "      <td>-0.163748</td>\n",
              "      <td>-0.194133</td>\n",
              "      <td>-0.090439</td>\n",
              "      <td>-0.000618</td>\n",
              "      <td>0.002321</td>\n",
              "      <td>-0.093591</td>\n",
              "      <td>1.000000</td>\n",
              "      <td>0.155951</td>\n",
              "      <td>0.121432</td>\n",
              "      <td>0.099427</td>\n",
              "    </tr>\n",
              "    <tr>\n",
              "      <th>Feature_10</th>\n",
              "      <td>-0.017143</td>\n",
              "      <td>-0.035728</td>\n",
              "      <td>0.062331</td>\n",
              "      <td>-0.026664</td>\n",
              "      <td>0.016763</td>\n",
              "      <td>0.059217</td>\n",
              "      <td>0.134562</td>\n",
              "      <td>0.074493</td>\n",
              "      <td>0.155951</td>\n",
              "      <td>1.000000</td>\n",
              "      <td>-0.017433</td>\n",
              "      <td>0.053678</td>\n",
              "    </tr>\n",
              "    <tr>\n",
              "      <th>Feature_11</th>\n",
              "      <td>-0.120881</td>\n",
              "      <td>0.067718</td>\n",
              "      <td>-0.075729</td>\n",
              "      <td>-0.450631</td>\n",
              "      <td>-0.360189</td>\n",
              "      <td>-0.250104</td>\n",
              "      <td>-0.448892</td>\n",
              "      <td>-0.780138</td>\n",
              "      <td>0.121432</td>\n",
              "      <td>-0.017433</td>\n",
              "      <td>1.000000</td>\n",
              "      <td>0.435575</td>\n",
              "    </tr>\n",
              "    <tr>\n",
              "      <th>Target_out</th>\n",
              "      <td>-0.113663</td>\n",
              "      <td>-0.194723</td>\n",
              "      <td>-0.009209</td>\n",
              "      <td>-0.097577</td>\n",
              "      <td>-0.209934</td>\n",
              "      <td>0.008158</td>\n",
              "      <td>-0.174737</td>\n",
              "      <td>-0.307123</td>\n",
              "      <td>0.099427</td>\n",
              "      <td>0.053678</td>\n",
              "      <td>0.435575</td>\n",
              "      <td>1.000000</td>\n",
              "    </tr>\n",
              "  </tbody>\n",
              "</table>\n",
              "</div>\n",
              "      <button class=\"colab-df-convert\" onclick=\"convertToInteractive('df-e77505db-2f65-498a-9c0c-05121f921832')\"\n",
              "              title=\"Convert this dataframe to an interactive table.\"\n",
              "              style=\"display:none;\">\n",
              "        \n",
              "  <svg xmlns=\"http://www.w3.org/2000/svg\" height=\"24px\"viewBox=\"0 0 24 24\"\n",
              "       width=\"24px\">\n",
              "    <path d=\"M0 0h24v24H0V0z\" fill=\"none\"/>\n",
              "    <path d=\"M18.56 5.44l.94 2.06.94-2.06 2.06-.94-2.06-.94-.94-2.06-.94 2.06-2.06.94zm-11 1L8.5 8.5l.94-2.06 2.06-.94-2.06-.94L8.5 2.5l-.94 2.06-2.06.94zm10 10l.94 2.06.94-2.06 2.06-.94-2.06-.94-.94-2.06-.94 2.06-2.06.94z\"/><path d=\"M17.41 7.96l-1.37-1.37c-.4-.4-.92-.59-1.43-.59-.52 0-1.04.2-1.43.59L10.3 9.45l-7.72 7.72c-.78.78-.78 2.05 0 2.83L4 21.41c.39.39.9.59 1.41.59.51 0 1.02-.2 1.41-.59l7.78-7.78 2.81-2.81c.8-.78.8-2.07 0-2.86zM5.41 20L4 18.59l7.72-7.72 1.47 1.35L5.41 20z\"/>\n",
              "  </svg>\n",
              "      </button>\n",
              "      \n",
              "  <style>\n",
              "    .colab-df-container {\n",
              "      display:flex;\n",
              "      flex-wrap:wrap;\n",
              "      gap: 12px;\n",
              "    }\n",
              "\n",
              "    .colab-df-convert {\n",
              "      background-color: #E8F0FE;\n",
              "      border: none;\n",
              "      border-radius: 50%;\n",
              "      cursor: pointer;\n",
              "      display: none;\n",
              "      fill: #1967D2;\n",
              "      height: 32px;\n",
              "      padding: 0 0 0 0;\n",
              "      width: 32px;\n",
              "    }\n",
              "\n",
              "    .colab-df-convert:hover {\n",
              "      background-color: #E2EBFA;\n",
              "      box-shadow: 0px 1px 2px rgba(60, 64, 67, 0.3), 0px 1px 3px 1px rgba(60, 64, 67, 0.15);\n",
              "      fill: #174EA6;\n",
              "    }\n",
              "\n",
              "    [theme=dark] .colab-df-convert {\n",
              "      background-color: #3B4455;\n",
              "      fill: #D2E3FC;\n",
              "    }\n",
              "\n",
              "    [theme=dark] .colab-df-convert:hover {\n",
              "      background-color: #434B5C;\n",
              "      box-shadow: 0px 1px 3px 1px rgba(0, 0, 0, 0.15);\n",
              "      filter: drop-shadow(0px 1px 2px rgba(0, 0, 0, 0.3));\n",
              "      fill: #FFFFFF;\n",
              "    }\n",
              "  </style>\n",
              "\n",
              "      <script>\n",
              "        const buttonEl =\n",
              "          document.querySelector('#df-e77505db-2f65-498a-9c0c-05121f921832 button.colab-df-convert');\n",
              "        buttonEl.style.display =\n",
              "          google.colab.kernel.accessAllowed ? 'block' : 'none';\n",
              "\n",
              "        async function convertToInteractive(key) {\n",
              "          const element = document.querySelector('#df-e77505db-2f65-498a-9c0c-05121f921832');\n",
              "          const dataTable =\n",
              "            await google.colab.kernel.invokeFunction('convertToInteractive',\n",
              "                                                     [key], {});\n",
              "          if (!dataTable) return;\n",
              "\n",
              "          const docLinkHtml = 'Like what you see? Visit the ' +\n",
              "            '<a target=\"_blank\" href=https://colab.research.google.com/notebooks/data_table.ipynb>data table notebook</a>'\n",
              "            + ' to learn more about interactive tables.';\n",
              "          element.innerHTML = '';\n",
              "          dataTable['output_type'] = 'display_data';\n",
              "          await google.colab.output.renderOutput(dataTable, element);\n",
              "          const docLink = document.createElement('div');\n",
              "          docLink.innerHTML = docLinkHtml;\n",
              "          element.appendChild(docLink);\n",
              "        }\n",
              "      </script>\n",
              "    </div>\n",
              "  </div>\n",
              "  "
            ]
          },
          "metadata": {},
          "execution_count": 56
        }
      ]
    },
    {
      "cell_type": "code",
      "source": [
        "# Matrix visualization\n",
        "import matplotlib.pyplot as plt\n",
        "plt.matshow(df1)"
      ],
      "metadata": {
        "colab": {
          "base_uri": "https://localhost:8080/",
          "height": 292
        },
        "id": "VCX-fBiF_PzO",
        "outputId": "69e817fc-7b9c-4d00-f6cd-64f7d1012097"
      },
      "execution_count": null,
      "outputs": [
        {
          "output_type": "execute_result",
          "data": {
            "text/plain": [
              "<matplotlib.image.AxesImage at 0x7fba8549be10>"
            ]
          },
          "metadata": {},
          "execution_count": 57
        },
        {
          "output_type": "display_data",
          "data": {
            "text/plain": [
              "<Figure size 288x288 with 1 Axes>"
            ],
            "image/png": "[encoded data removed]"
          },
          "metadata": {
            "needs_background": "light"
          }
        }
      ]
    },
    {
      "cell_type": "markdown",
      "source": [
        "For Highly correlated features in the data, I have considered points more that 0.8 for positive correlation and points more that 0.4 for negative correlations. There are a total of 6 - 10 highly correlated features in the data."
      ],
      "metadata": {
        "id": "wnEaVijQ_kek"
      }
    },
    {
      "cell_type": "code",
      "source": [
        "# Boxplot\n",
        "df.boxplot()"
      ],
      "metadata": {
        "colab": {
          "base_uri": "https://localhost:8080/",
          "height": 283
        },
        "id": "scYnS0jk_4Cj",
        "outputId": "829e348e-f1f6-499e-9602-9fd83cdd7aa0"
      },
      "execution_count": null,
      "outputs": [
        {
          "output_type": "execute_result",
          "data": {
            "text/plain": [
              "<matplotlib.axes._subplots.AxesSubplot at 0x7fba8547fd10>"
            ]
          },
          "metadata": {},
          "execution_count": 58
        },
        {
          "output_type": "display_data",
          "data": {
            "text/plain": [
              "<Figure size 432x288 with 1 Axes>"
            ],
            "image/png": "[encoded data removed]"
          },
          "metadata": {
            "needs_background": "light"
          }
        }
      ]
    },
    {
      "cell_type": "markdown",
      "source": [
        "Feature scaling is required in this data. \n",
        "For feature 7,6,4 should be taken into consideration. \n",
        "\n",
        "Real-world datasets often contain features that are varying in degrees of magnitude, range and units. Therefore, in order for machine learning models to interpret these features on the same scale, we need to perform feature scaling\n",
        "\n"
      ],
      "metadata": {
        "id": "a8nzQEmL8j3T"
      }
    },
    {
      "cell_type": "code",
      "source": [
        "# Visualize the histogram\n",
        "df.hist(bins=50, figsize=(20,15))"
      ],
      "metadata": {
        "colab": {
          "base_uri": "https://localhost:8080/",
          "height": 1000
        },
        "id": "tBNTRNgvBfzW",
        "outputId": "b65b75d0-4acd-4dbb-9b38-519596ca4c0d"
      },
      "execution_count": null,
      "outputs": [
        {
          "output_type": "execute_result",
          "data": {
            "text/plain": [
              "array([[<matplotlib.axes._subplots.AxesSubplot object at 0x7fba971cb5d0>,\n",
              "        <matplotlib.axes._subplots.AxesSubplot object at 0x7fba97180a90>,\n",
              "        <matplotlib.axes._subplots.AxesSubplot object at 0x7fba971410d0>],\n",
              "       [<matplotlib.axes._subplots.AxesSubplot object at 0x7fba970f96d0>,\n",
              "        <matplotlib.axes._subplots.AxesSubplot object at 0x7fba970b0cd0>,\n",
              "        <matplotlib.axes._subplots.AxesSubplot object at 0x7fba97072310>],\n",
              "       [<matplotlib.axes._subplots.AxesSubplot object at 0x7fba9702a990>,\n",
              "        <matplotlib.axes._subplots.AxesSubplot object at 0x7fba97062ed0>,\n",
              "        <matplotlib.axes._subplots.AxesSubplot object at 0x7fba97062f10>],\n",
              "       [<matplotlib.axes._subplots.AxesSubplot object at 0x7fba97023650>,\n",
              "        <matplotlib.axes._subplots.AxesSubplot object at 0x7fba96fa0190>,\n",
              "        <matplotlib.axes._subplots.AxesSubplot object at 0x7fba96f56790>]],\n",
              "      dtype=object)"
            ]
          },
          "metadata": {},
          "execution_count": 9
        },
        {
          "output_type": "display_data",
          "data": {
            "text/plain": [
              "<Figure size 1440x1080 with 12 Axes>"
            ],
            "image/png": "[encoded data removed]"
          },
          "metadata": {
            "needs_background": "light"
          }
        }
      ]
    },
    {
      "cell_type": "code",
      "source": [
        "# Dividing the dataset into separate training and test dataset\n",
        "from sklearn.model_selection import train_test_split\n",
        "x_train, x_test, y_train, y_test = train_test_split(df[[\"Feature_1\",\"Feature_2\",\"Feature_3\",\"Feature_4\",\"Feature_5\",\"Feature_6\",\"Feature_7\",\"Feature_8\",\"Feature_9\",\"Feature_10\",\"Feature_11\"]], df['Target_out'], test_size=0.3, random_state=10)"
      ],
      "metadata": {
        "id": "1GMe8xyRLi-c"
      },
      "execution_count": null,
      "outputs": []
    },
    {
      "cell_type": "code",
      "source": [
        "x_train"
      ],
      "metadata": {
        "colab": {
          "base_uri": "https://localhost:8080/",
          "height": 424
        },
        "id": "HrRNimfhBAJ_",
        "outputId": "63e3575e-77f1-4b25-ad3b-bd2bbd6fb6fa"
      },
      "execution_count": null,
      "outputs": [
        {
          "output_type": "execute_result",
          "data": {
            "text/plain": [
              "      Feature_1  Feature_2  Feature_3  Feature_4  Feature_5  Feature_6  \\\n",
              "4846        6.6      0.140       0.44       1.60      0.042       47.0   \n",
              "4717        6.9      0.250       0.34       1.30      0.035       27.0   \n",
              "1622        6.8      0.390       0.31      14.35      0.043       28.0   \n",
              "1349        8.6      0.180       0.40       1.10      0.040       20.0   \n",
              "1489        7.8      0.965       0.60      65.80      0.074        8.0   \n",
              "...         ...        ...        ...        ...        ...        ...   \n",
              "1180        7.2      0.250       0.28      14.40      0.055       55.0   \n",
              "3441        7.9      0.290       0.39       6.70      0.036        6.0   \n",
              "1344        7.8      0.250       0.37       1.00      0.043       10.0   \n",
              "4623        6.7      0.370       0.41       6.30      0.061       22.0   \n",
              "1289        8.4      0.580       0.27      12.15      0.033       37.0   \n",
              "\n",
              "      Feature_7  Feature_8  Feature_9  Feature_10  Feature_11  \n",
              "4846      140.0    0.99300       3.32        0.51        10.2  \n",
              "4717       82.0    0.99045       3.18        0.44        12.2  \n",
              "1622      162.0    0.99880       3.17        0.54         9.1  \n",
              "1349      107.0    0.99230       2.94        0.32        10.2  \n",
              "1489      160.0    1.03898       3.39        0.69        11.7  \n",
              "...         ...        ...        ...         ...         ...  \n",
              "1180      205.0    0.99860       3.12        0.38         9.0  \n",
              "3441      117.0    0.99380       3.12        0.42        10.7  \n",
              "1344       80.0    0.99128       3.08        0.38        11.4  \n",
              "4623      149.0    0.99530       3.16        0.47         9.6  \n",
              "1289      116.0    0.99590       2.99        0.39        10.8  \n",
              "\n",
              "[3428 rows x 11 columns]"
            ],
            "text/html": [
              "\n",
              "  <div id=\"df-8b5ea4ad-18bb-4a88-89b4-1f4f222ead47\">\n",
              "    <div class=\"colab-df-container\">\n",
              "      <div>\n",
              "<style scoped>\n",
              "    .dataframe tbody tr th:only-of-type {\n",
              "        vertical-align: middle;\n",
              "    }\n",
              "\n",
              "    .dataframe tbody tr th {\n",
              "        vertical-align: top;\n",
              "    }\n",
              "\n",
              "    .dataframe thead th {\n",
              "        text-align: right;\n",
              "    }\n",
              "</style>\n",
              "<table border=\"1\" class=\"dataframe\">\n",
              "  <thead>\n",
              "    <tr style=\"text-align: right;\">\n",
              "      <th></th>\n",
              "      <th>Feature_1</th>\n",
              "      <th>Feature_2</th>\n",
              "      <th>Feature_3</th>\n",
              "      <th>Feature_4</th>\n",
              "      <th>Feature_5</th>\n",
              "      <th>Feature_6</th>\n",
              "      <th>Feature_7</th>\n",
              "      <th>Feature_8</th>\n",
              "      <th>Feature_9</th>\n",
              "      <th>Feature_10</th>\n",
              "      <th>Feature_11</th>\n",
              "    </tr>\n",
              "  </thead>\n",
              "  <tbody>\n",
              "    <tr>\n",
              "      <th>4846</th>\n",
              "      <td>6.6</td>\n",
              "      <td>0.140</td>\n",
              "      <td>0.44</td>\n",
              "      <td>1.60</td>\n",
              "      <td>0.042</td>\n",
              "      <td>47.0</td>\n",
              "      <td>140.0</td>\n",
              "      <td>0.99300</td>\n",
              "      <td>3.32</td>\n",
              "      <td>0.51</td>\n",
              "      <td>10.2</td>\n",
              "    </tr>\n",
              "    <tr>\n",
              "      <th>4717</th>\n",
              "      <td>6.9</td>\n",
              "      <td>0.250</td>\n",
              "      <td>0.34</td>\n",
              "      <td>1.30</td>\n",
              "      <td>0.035</td>\n",
              "      <td>27.0</td>\n",
              "      <td>82.0</td>\n",
              "      <td>0.99045</td>\n",
              "      <td>3.18</td>\n",
              "      <td>0.44</td>\n",
              "      <td>12.2</td>\n",
              "    </tr>\n",
              "    <tr>\n",
              "      <th>1622</th>\n",
              "      <td>6.8</td>\n",
              "      <td>0.390</td>\n",
              "      <td>0.31</td>\n",
              "      <td>14.35</td>\n",
              "      <td>0.043</td>\n",
              "      <td>28.0</td>\n",
              "      <td>162.0</td>\n",
              "      <td>0.99880</td>\n",
              "      <td>3.17</td>\n",
              "      <td>0.54</td>\n",
              "      <td>9.1</td>\n",
              "    </tr>\n",
              "    <tr>\n",
              "      <th>1349</th>\n",
              "      <td>8.6</td>\n",
              "      <td>0.180</td>\n",
              "      <td>0.40</td>\n",
              "      <td>1.10</td>\n",
              "      <td>0.040</td>\n",
              "      <td>20.0</td>\n",
              "      <td>107.0</td>\n",
              "      <td>0.99230</td>\n",
              "      <td>2.94</td>\n",
              "      <td>0.32</td>\n",
              "      <td>10.2</td>\n",
              "    </tr>\n",
              "    <tr>\n",
              "      <th>1489</th>\n",
              "      <td>7.8</td>\n",
              "      <td>0.965</td>\n",
              "      <td>0.60</td>\n",
              "      <td>65.80</td>\n",
              "      <td>0.074</td>\n",
              "      <td>8.0</td>\n",
              "      <td>160.0</td>\n",
              "      <td>1.03898</td>\n",
              "      <td>3.39</td>\n",
              "      <td>0.69</td>\n",
              "      <td>11.7</td>\n",
              "    </tr>\n",
              "    <tr>\n",
              "      <th>...</th>\n",
              "      <td>...</td>\n",
              "      <td>...</td>\n",
              "      <td>...</td>\n",
              "      <td>...</td>\n",
              "      <td>...</td>\n",
              "      <td>...</td>\n",
              "      <td>...</td>\n",
              "      <td>...</td>\n",
              "      <td>...</td>\n",
              "      <td>...</td>\n",
              "      <td>...</td>\n",
              "    </tr>\n",
              "    <tr>\n",
              "      <th>1180</th>\n",
              "      <td>7.2</td>\n",
              "      <td>0.250</td>\n",
              "      <td>0.28</td>\n",
              "      <td>14.40</td>\n",
              "      <td>0.055</td>\n",
              "      <td>55.0</td>\n",
              "      <td>205.0</td>\n",
              "      <td>0.99860</td>\n",
              "      <td>3.12</td>\n",
              "      <td>0.38</td>\n",
              "      <td>9.0</td>\n",
              "    </tr>\n",
              "    <tr>\n",
              "      <th>3441</th>\n",
              "      <td>7.9</td>\n",
              "      <td>0.290</td>\n",
              "      <td>0.39</td>\n",
              "      <td>6.70</td>\n",
              "      <td>0.036</td>\n",
              "      <td>6.0</td>\n",
              "      <td>117.0</td>\n",
              "      <td>0.99380</td>\n",
              "      <td>3.12</td>\n",
              "      <td>0.42</td>\n",
              "      <td>10.7</td>\n",
              "    </tr>\n",
              "    <tr>\n",
              "      <th>1344</th>\n",
              "      <td>7.8</td>\n",
              "      <td>0.250</td>\n",
              "      <td>0.37</td>\n",
              "      <td>1.00</td>\n",
              "      <td>0.043</td>\n",
              "      <td>10.0</td>\n",
              "      <td>80.0</td>\n",
              "      <td>0.99128</td>\n",
              "      <td>3.08</td>\n",
              "      <td>0.38</td>\n",
              "      <td>11.4</td>\n",
              "    </tr>\n",
              "    <tr>\n",
              "      <th>4623</th>\n",
              "      <td>6.7</td>\n",
              "      <td>0.370</td>\n",
              "      <td>0.41</td>\n",
              "      <td>6.30</td>\n",
              "      <td>0.061</td>\n",
              "      <td>22.0</td>\n",
              "      <td>149.0</td>\n",
              "      <td>0.99530</td>\n",
              "      <td>3.16</td>\n",
              "      <td>0.47</td>\n",
              "      <td>9.6</td>\n",
              "    </tr>\n",
              "    <tr>\n",
              "      <th>1289</th>\n",
              "      <td>8.4</td>\n",
              "      <td>0.580</td>\n",
              "      <td>0.27</td>\n",
              "      <td>12.15</td>\n",
              "      <td>0.033</td>\n",
              "      <td>37.0</td>\n",
              "      <td>116.0</td>\n",
              "      <td>0.99590</td>\n",
              "      <td>2.99</td>\n",
              "      <td>0.39</td>\n",
              "      <td>10.8</td>\n",
              "    </tr>\n",
              "  </tbody>\n",
              "</table>\n",
              "<p>3428 rows × 11 columns</p>\n",
              "</div>\n",
              "      <button class=\"colab-df-convert\" onclick=\"convertToInteractive('df-8b5ea4ad-18bb-4a88-89b4-1f4f222ead47')\"\n",
              "              title=\"Convert this dataframe to an interactive table.\"\n",
              "              style=\"display:none;\">\n",
              "        \n",
              "  <svg xmlns=\"http://www.w3.org/2000/svg\" height=\"24px\"viewBox=\"0 0 24 24\"\n",
              "       width=\"24px\">\n",
              "    <path d=\"M0 0h24v24H0V0z\" fill=\"none\"/>\n",
              "    <path d=\"M18.56 5.44l.94 2.06.94-2.06 2.06-.94-2.06-.94-.94-2.06-.94 2.06-2.06.94zm-11 1L8.5 8.5l.94-2.06 2.06-.94-2.06-.94L8.5 2.5l-.94 2.06-2.06.94zm10 10l.94 2.06.94-2.06 2.06-.94-2.06-.94-.94-2.06-.94 2.06-2.06.94z\"/><path d=\"M17.41 7.96l-1.37-1.37c-.4-.4-.92-.59-1.43-.59-.52 0-1.04.2-1.43.59L10.3 9.45l-7.72 7.72c-.78.78-.78 2.05 0 2.83L4 21.41c.39.39.9.59 1.41.59.51 0 1.02-.2 1.41-.59l7.78-7.78 2.81-2.81c.8-.78.8-2.07 0-2.86zM5.41 20L4 18.59l7.72-7.72 1.47 1.35L5.41 20z\"/>\n",
              "  </svg>\n",
              "      </button>\n",
              "      \n",
              "  <style>\n",
              "    .colab-df-container {\n",
              "      display:flex;\n",
              "      flex-wrap:wrap;\n",
              "      gap: 12px;\n",
              "    }\n",
              "\n",
              "    .colab-df-convert {\n",
              "      background-color: #E8F0FE;\n",
              "      border: none;\n",
              "      border-radius: 50%;\n",
              "      cursor: pointer;\n",
              "      display: none;\n",
              "      fill: #1967D2;\n",
              "      height: 32px;\n",
              "      padding: 0 0 0 0;\n",
              "      width: 32px;\n",
              "    }\n",
              "\n",
              "    .colab-df-convert:hover {\n",
              "      background-color: #E2EBFA;\n",
              "      box-shadow: 0px 1px 2px rgba(60, 64, 67, 0.3), 0px 1px 3px 1px rgba(60, 64, 67, 0.15);\n",
              "      fill: #174EA6;\n",
              "    }\n",
              "\n",
              "    [theme=dark] .colab-df-convert {\n",
              "      background-color: #3B4455;\n",
              "      fill: #D2E3FC;\n",
              "    }\n",
              "\n",
              "    [theme=dark] .colab-df-convert:hover {\n",
              "      background-color: #434B5C;\n",
              "      box-shadow: 0px 1px 3px 1px rgba(0, 0, 0, 0.15);\n",
              "      filter: drop-shadow(0px 1px 2px rgba(0, 0, 0, 0.3));\n",
              "      fill: #FFFFFF;\n",
              "    }\n",
              "  </style>\n",
              "\n",
              "      <script>\n",
              "        const buttonEl =\n",
              "          document.querySelector('#df-8b5ea4ad-18bb-4a88-89b4-1f4f222ead47 button.colab-df-convert');\n",
              "        buttonEl.style.display =\n",
              "          google.colab.kernel.accessAllowed ? 'block' : 'none';\n",
              "\n",
              "        async function convertToInteractive(key) {\n",
              "          const element = document.querySelector('#df-8b5ea4ad-18bb-4a88-89b4-1f4f222ead47');\n",
              "          const dataTable =\n",
              "            await google.colab.kernel.invokeFunction('convertToInteractive',\n",
              "                                                     [key], {});\n",
              "          if (!dataTable) return;\n",
              "\n",
              "          const docLinkHtml = 'Like what you see? Visit the ' +\n",
              "            '<a target=\"_blank\" href=https://colab.research.google.com/notebooks/data_table.ipynb>data table notebook</a>'\n",
              "            + ' to learn more about interactive tables.';\n",
              "          element.innerHTML = '';\n",
              "          dataTable['output_type'] = 'display_data';\n",
              "          await google.colab.output.renderOutput(dataTable, element);\n",
              "          const docLink = document.createElement('div');\n",
              "          docLink.innerHTML = docLinkHtml;\n",
              "          element.appendChild(docLink);\n",
              "        }\n",
              "      </script>\n",
              "    </div>\n",
              "  </div>\n",
              "  "
            ]
          },
          "metadata": {},
          "execution_count": 61
        }
      ]
    },
    {
      "cell_type": "code",
      "source": [
        "x_test"
      ],
      "metadata": {
        "colab": {
          "base_uri": "https://localhost:8080/",
          "height": 424
        },
        "id": "xszNT7uFBCva",
        "outputId": "97c12326-a778-4855-8746-32e8b1fda6a0"
      },
      "execution_count": null,
      "outputs": [
        {
          "output_type": "execute_result",
          "data": {
            "text/plain": [
              "      Feature_1  Feature_2  Feature_3  Feature_4  Feature_5  Feature_6  \\\n",
              "4731        6.3      0.240       0.35        2.3      0.039       43.0   \n",
              "937         7.9      0.345       0.51       15.3      0.047       54.0   \n",
              "1217        8.2      0.520       0.34        1.2      0.042       18.0   \n",
              "3296        6.8      0.450       0.30       11.8      0.094       23.0   \n",
              "4524        7.2      0.230       0.39       14.2      0.058       49.0   \n",
              "...         ...        ...        ...        ...        ...        ...   \n",
              "462         8.5      0.250       0.27        4.7      0.031       31.0   \n",
              "728         6.2      0.230       0.36       17.2      0.039       37.0   \n",
              "4151        9.2      0.340       0.27        1.2      0.026       17.0   \n",
              "1965        7.8      0.320       0.33       10.4      0.031       47.0   \n",
              "3816        6.0      0.280       0.27       15.5      0.036       31.0   \n",
              "\n",
              "      Feature_7  Feature_8  Feature_9  Feature_10  Feature_11  \n",
              "4731      109.0    0.99056       3.34        0.44        11.8  \n",
              "937       171.0    0.99870       3.09        0.51         9.1  \n",
              "1217      167.0    0.99366       3.24        0.39        10.6  \n",
              "3296       97.0    0.99700       3.09        0.44         9.6  \n",
              "4524      192.0    0.99790       2.98        0.48         9.0  \n",
              "...         ...        ...        ...         ...         ...  \n",
              "462        92.0    0.99220       3.01        0.33        12.0  \n",
              "728       130.0    0.99946       3.23        0.43         8.8  \n",
              "4151       73.0    0.99210       3.08        0.39        10.8  \n",
              "1965      194.0    0.99692       3.07        0.58         9.6  \n",
              "3816      134.0    0.99408       3.19        0.44        13.0  \n",
              "\n",
              "[1470 rows x 11 columns]"
            ],
            "text/html": [
              "\n",
              "  <div id=\"df-0fd7c05d-216a-4aa4-84b0-58245645a1a8\">\n",
              "    <div class=\"colab-df-container\">\n",
              "      <div>\n",
              "<style scoped>\n",
              "    .dataframe tbody tr th:only-of-type {\n",
              "        vertical-align: middle;\n",
              "    }\n",
              "\n",
              "    .dataframe tbody tr th {\n",
              "        vertical-align: top;\n",
              "    }\n",
              "\n",
              "    .dataframe thead th {\n",
              "        text-align: right;\n",
              "    }\n",
              "</style>\n",
              "<table border=\"1\" class=\"dataframe\">\n",
              "  <thead>\n",
              "    <tr style=\"text-align: right;\">\n",
              "      <th></th>\n",
              "      <th>Feature_1</th>\n",
              "      <th>Feature_2</th>\n",
              "      <th>Feature_3</th>\n",
              "      <th>Feature_4</th>\n",
              "      <th>Feature_5</th>\n",
              "      <th>Feature_6</th>\n",
              "      <th>Feature_7</th>\n",
              "      <th>Feature_8</th>\n",
              "      <th>Feature_9</th>\n",
              "      <th>Feature_10</th>\n",
              "      <th>Feature_11</th>\n",
              "    </tr>\n",
              "  </thead>\n",
              "  <tbody>\n",
              "    <tr>\n",
              "      <th>4731</th>\n",
              "      <td>6.3</td>\n",
              "      <td>0.240</td>\n",
              "      <td>0.35</td>\n",
              "      <td>2.3</td>\n",
              "      <td>0.039</td>\n",
              "      <td>43.0</td>\n",
              "      <td>109.0</td>\n",
              "      <td>0.99056</td>\n",
              "      <td>3.34</td>\n",
              "      <td>0.44</td>\n",
              "      <td>11.8</td>\n",
              "    </tr>\n",
              "    <tr>\n",
              "      <th>937</th>\n",
              "      <td>7.9</td>\n",
              "      <td>0.345</td>\n",
              "      <td>0.51</td>\n",
              "      <td>15.3</td>\n",
              "      <td>0.047</td>\n",
              "      <td>54.0</td>\n",
              "      <td>171.0</td>\n",
              "      <td>0.99870</td>\n",
              "      <td>3.09</td>\n",
              "      <td>0.51</td>\n",
              "      <td>9.1</td>\n",
              "    </tr>\n",
              "    <tr>\n",
              "      <th>1217</th>\n",
              "      <td>8.2</td>\n",
              "      <td>0.520</td>\n",
              "      <td>0.34</td>\n",
              "      <td>1.2</td>\n",
              "      <td>0.042</td>\n",
              "      <td>18.0</td>\n",
              "      <td>167.0</td>\n",
              "      <td>0.99366</td>\n",
              "      <td>3.24</td>\n",
              "      <td>0.39</td>\n",
              "      <td>10.6</td>\n",
              "    </tr>\n",
              "    <tr>\n",
              "      <th>3296</th>\n",
              "      <td>6.8</td>\n",
              "      <td>0.450</td>\n",
              "      <td>0.30</td>\n",
              "      <td>11.8</td>\n",
              "      <td>0.094</td>\n",
              "      <td>23.0</td>\n",
              "      <td>97.0</td>\n",
              "      <td>0.99700</td>\n",
              "      <td>3.09</td>\n",
              "      <td>0.44</td>\n",
              "      <td>9.6</td>\n",
              "    </tr>\n",
              "    <tr>\n",
              "      <th>4524</th>\n",
              "      <td>7.2</td>\n",
              "      <td>0.230</td>\n",
              "      <td>0.39</td>\n",
              "      <td>14.2</td>\n",
              "      <td>0.058</td>\n",
              "      <td>49.0</td>\n",
              "      <td>192.0</td>\n",
              "      <td>0.99790</td>\n",
              "      <td>2.98</td>\n",
              "      <td>0.48</td>\n",
              "      <td>9.0</td>\n",
              "    </tr>\n",
              "    <tr>\n",
              "      <th>...</th>\n",
              "      <td>...</td>\n",
              "      <td>...</td>\n",
              "      <td>...</td>\n",
              "      <td>...</td>\n",
              "      <td>...</td>\n",
              "      <td>...</td>\n",
              "      <td>...</td>\n",
              "      <td>...</td>\n",
              "      <td>...</td>\n",
              "      <td>...</td>\n",
              "      <td>...</td>\n",
              "    </tr>\n",
              "    <tr>\n",
              "      <th>462</th>\n",
              "      <td>8.5</td>\n",
              "      <td>0.250</td>\n",
              "      <td>0.27</td>\n",
              "      <td>4.7</td>\n",
              "      <td>0.031</td>\n",
              "      <td>31.0</td>\n",
              "      <td>92.0</td>\n",
              "      <td>0.99220</td>\n",
              "      <td>3.01</td>\n",
              "      <td>0.33</td>\n",
              "      <td>12.0</td>\n",
              "    </tr>\n",
              "    <tr>\n",
              "      <th>728</th>\n",
              "      <td>6.2</td>\n",
              "      <td>0.230</td>\n",
              "      <td>0.36</td>\n",
              "      <td>17.2</td>\n",
              "      <td>0.039</td>\n",
              "      <td>37.0</td>\n",
              "      <td>130.0</td>\n",
              "      <td>0.99946</td>\n",
              "      <td>3.23</td>\n",
              "      <td>0.43</td>\n",
              "      <td>8.8</td>\n",
              "    </tr>\n",
              "    <tr>\n",
              "      <th>4151</th>\n",
              "      <td>9.2</td>\n",
              "      <td>0.340</td>\n",
              "      <td>0.27</td>\n",
              "      <td>1.2</td>\n",
              "      <td>0.026</td>\n",
              "      <td>17.0</td>\n",
              "      <td>73.0</td>\n",
              "      <td>0.99210</td>\n",
              "      <td>3.08</td>\n",
              "      <td>0.39</td>\n",
              "      <td>10.8</td>\n",
              "    </tr>\n",
              "    <tr>\n",
              "      <th>1965</th>\n",
              "      <td>7.8</td>\n",
              "      <td>0.320</td>\n",
              "      <td>0.33</td>\n",
              "      <td>10.4</td>\n",
              "      <td>0.031</td>\n",
              "      <td>47.0</td>\n",
              "      <td>194.0</td>\n",
              "      <td>0.99692</td>\n",
              "      <td>3.07</td>\n",
              "      <td>0.58</td>\n",
              "      <td>9.6</td>\n",
              "    </tr>\n",
              "    <tr>\n",
              "      <th>3816</th>\n",
              "      <td>6.0</td>\n",
              "      <td>0.280</td>\n",
              "      <td>0.27</td>\n",
              "      <td>15.5</td>\n",
              "      <td>0.036</td>\n",
              "      <td>31.0</td>\n",
              "      <td>134.0</td>\n",
              "      <td>0.99408</td>\n",
              "      <td>3.19</td>\n",
              "      <td>0.44</td>\n",
              "      <td>13.0</td>\n",
              "    </tr>\n",
              "  </tbody>\n",
              "</table>\n",
              "<p>1470 rows × 11 columns</p>\n",
              "</div>\n",
              "      <button class=\"colab-df-convert\" onclick=\"convertToInteractive('df-0fd7c05d-216a-4aa4-84b0-58245645a1a8')\"\n",
              "              title=\"Convert this dataframe to an interactive table.\"\n",
              "              style=\"display:none;\">\n",
              "        \n",
              "  <svg xmlns=\"http://www.w3.org/2000/svg\" height=\"24px\"viewBox=\"0 0 24 24\"\n",
              "       width=\"24px\">\n",
              "    <path d=\"M0 0h24v24H0V0z\" fill=\"none\"/>\n",
              "    <path d=\"M18.56 5.44l.94 2.06.94-2.06 2.06-.94-2.06-.94-.94-2.06-.94 2.06-2.06.94zm-11 1L8.5 8.5l.94-2.06 2.06-.94-2.06-.94L8.5 2.5l-.94 2.06-2.06.94zm10 10l.94 2.06.94-2.06 2.06-.94-2.06-.94-.94-2.06-.94 2.06-2.06.94z\"/><path d=\"M17.41 7.96l-1.37-1.37c-.4-.4-.92-.59-1.43-.59-.52 0-1.04.2-1.43.59L10.3 9.45l-7.72 7.72c-.78.78-.78 2.05 0 2.83L4 21.41c.39.39.9.59 1.41.59.51 0 1.02-.2 1.41-.59l7.78-7.78 2.81-2.81c.8-.78.8-2.07 0-2.86zM5.41 20L4 18.59l7.72-7.72 1.47 1.35L5.41 20z\"/>\n",
              "  </svg>\n",
              "      </button>\n",
              "      \n",
              "  <style>\n",
              "    .colab-df-container {\n",
              "      display:flex;\n",
              "      flex-wrap:wrap;\n",
              "      gap: 12px;\n",
              "    }\n",
              "\n",
              "    .colab-df-convert {\n",
              "      background-color: #E8F0FE;\n",
              "      border: none;\n",
              "      border-radius: 50%;\n",
              "      cursor: pointer;\n",
              "      display: none;\n",
              "      fill: #1967D2;\n",
              "      height: 32px;\n",
              "      padding: 0 0 0 0;\n",
              "      width: 32px;\n",
              "    }\n",
              "\n",
              "    .colab-df-convert:hover {\n",
              "      background-color: #E2EBFA;\n",
              "      box-shadow: 0px 1px 2px rgba(60, 64, 67, 0.3), 0px 1px 3px 1px rgba(60, 64, 67, 0.15);\n",
              "      fill: #174EA6;\n",
              "    }\n",
              "\n",
              "    [theme=dark] .colab-df-convert {\n",
              "      background-color: #3B4455;\n",
              "      fill: #D2E3FC;\n",
              "    }\n",
              "\n",
              "    [theme=dark] .colab-df-convert:hover {\n",
              "      background-color: #434B5C;\n",
              "      box-shadow: 0px 1px 3px 1px rgba(0, 0, 0, 0.15);\n",
              "      filter: drop-shadow(0px 1px 2px rgba(0, 0, 0, 0.3));\n",
              "      fill: #FFFFFF;\n",
              "    }\n",
              "  </style>\n",
              "\n",
              "      <script>\n",
              "        const buttonEl =\n",
              "          document.querySelector('#df-0fd7c05d-216a-4aa4-84b0-58245645a1a8 button.colab-df-convert');\n",
              "        buttonEl.style.display =\n",
              "          google.colab.kernel.accessAllowed ? 'block' : 'none';\n",
              "\n",
              "        async function convertToInteractive(key) {\n",
              "          const element = document.querySelector('#df-0fd7c05d-216a-4aa4-84b0-58245645a1a8');\n",
              "          const dataTable =\n",
              "            await google.colab.kernel.invokeFunction('convertToInteractive',\n",
              "                                                     [key], {});\n",
              "          if (!dataTable) return;\n",
              "\n",
              "          const docLinkHtml = 'Like what you see? Visit the ' +\n",
              "            '<a target=\"_blank\" href=https://colab.research.google.com/notebooks/data_table.ipynb>data table notebook</a>'\n",
              "            + ' to learn more about interactive tables.';\n",
              "          element.innerHTML = '';\n",
              "          dataTable['output_type'] = 'display_data';\n",
              "          await google.colab.output.renderOutput(dataTable, element);\n",
              "          const docLink = document.createElement('div');\n",
              "          docLink.innerHTML = docLinkHtml;\n",
              "          element.appendChild(docLink);\n",
              "        }\n",
              "      </script>\n",
              "    </div>\n",
              "  </div>\n",
              "  "
            ]
          },
          "metadata": {},
          "execution_count": 127
        }
      ]
    },
    {
      "cell_type": "code",
      "source": [
        "# we need to prepare the input features (X) and output labels (Y) for supervised learning\n",
        "train_labels = df[\"Target_out\"] # get labels for output label Y\n",
        "train_features = df.drop(columns=\"Target_out\") # drop labels to get features X for training set"
      ],
      "metadata": {
        "id": "C4hoEuagVzbM"
      },
      "execution_count": null,
      "outputs": []
    },
    {
      "cell_type": "code",
      "source": [
        "# MinMax\n",
        "from sklearn.preprocessing import MinMaxScaler\n",
        "scaler = MinMaxScaler() ## define the transformer\n",
        "scaler.fit(x_train) ## call .fit() method to calculate the min and max value for each column in dataset\n",
        "x_train_normalized = scaler.transform(x_train)\n",
        "x_train_normalized=pd.DataFrame(x_train_normalized)\n",
        "x_train_normalized.boxplot()"
      ],
      "metadata": {
        "colab": {
          "base_uri": "https://localhost:8080/",
          "height": 282
        },
        "id": "dVpWWnKEpCe7",
        "outputId": "5004072f-013d-4482-8fdb-dc35126c8144"
      },
      "execution_count": null,
      "outputs": [
        {
          "output_type": "execute_result",
          "data": {
            "text/plain": [
              "<matplotlib.axes._subplots.AxesSubplot at 0x7fba8485c9d0>"
            ]
          },
          "metadata": {},
          "execution_count": 128
        },
        {
          "output_type": "display_data",
          "data": {
            "text/plain": [
              "<Figure size 432x288 with 1 Axes>"
            ],
            "image/png": "[encoded data removed]"
          },
          "metadata": {
            "needs_background": "light"
          }
        }
      ]
    },
    {
      "cell_type": "code",
      "source": [
        "x_test_normalized = scaler.transform(x_test)\n",
        "x_test_normalized=pd.DataFrame(x_test_normalized)\n",
        "x_test_normalized.boxplot()"
      ],
      "metadata": {
        "colab": {
          "base_uri": "https://localhost:8080/",
          "height": 283
        },
        "id": "lR0cf2KdCdb0",
        "outputId": "9e7fbd1e-edb6-45ee-db3a-1b172bb649b8"
      },
      "execution_count": null,
      "outputs": [
        {
          "output_type": "execute_result",
          "data": {
            "text/plain": [
              "<matplotlib.axes._subplots.AxesSubplot at 0x7fba8468f050>"
            ]
          },
          "metadata": {},
          "execution_count": 129
        },
        {
          "output_type": "display_data",
          "data": {
            "text/plain": [
              "<Figure size 432x288 with 1 Axes>"
            ],
            "image/png": "[encoded data removed]"
          },
          "metadata": {
            "needs_background": "light"
          }
        }
      ]
    },
    {
      "cell_type": "code",
      "source": [
        "# Binary classification dataset by cutting the target values into two categories (<6, >=6)\n",
        "y_train[y_train<6] = 0\n",
        "y_train[y_train>=6] = 1"
      ],
      "metadata": {
        "id": "jRUpQAUBqhY8"
      },
      "execution_count": null,
      "outputs": []
    },
    {
      "cell_type": "code",
      "source": [
        "y_test[y_test<6] = 0\n",
        "y_test[y_test>=6] = 1"
      ],
      "metadata": {
        "id": "8qhHh87_C74W"
      },
      "execution_count": null,
      "outputs": []
    },
    {
      "cell_type": "code",
      "source": [
        "y_train"
      ],
      "metadata": {
        "colab": {
          "base_uri": "https://localhost:8080/"
        },
        "id": "mOHYbDYDqqkM",
        "outputId": "e7c7a4bf-f941-4b8b-bca2-baf010e004c2"
      },
      "execution_count": null,
      "outputs": [
        {
          "output_type": "execute_result",
          "data": {
            "text/plain": [
              "4846    1\n",
              "4717    1\n",
              "1622    0\n",
              "1349    1\n",
              "1489    1\n",
              "       ..\n",
              "1180    1\n",
              "3441    0\n",
              "1344    0\n",
              "4623    1\n",
              "1289    1\n",
              "Name: Target_out, Length: 3428, dtype: int64"
            ]
          },
          "metadata": {},
          "execution_count": 72
        }
      ]
    },
    {
      "cell_type": "code",
      "source": [
        "# Logistic regression\n",
        "from sklearn.linear_model import LogisticRegression\n",
        "logistic_model = LogisticRegression(penalty = 'l2', C = 1, random_state = 0)\n",
        "logistic_model.fit(x_train_normalized,y_train)\n",
        "logistic_model.predict(x_test_normalized)"
      ],
      "metadata": {
        "colab": {
          "base_uri": "https://localhost:8080/"
        },
        "id": "v-3iYUBA3zuw",
        "outputId": "12f4de21-e3a7-4e4d-9ef7-9f656688d621"
      },
      "execution_count": null,
      "outputs": [
        {
          "output_type": "execute_result",
          "data": {
            "text/plain": [
              "array([1, 0, 0, ..., 1, 1, 1])"
            ]
          },
          "metadata": {},
          "execution_count": 77
        }
      ]
    },
    {
      "cell_type": "code",
      "source": [
        "logistic_model.score(x_train_normalized,y_train)"
      ],
      "metadata": {
        "colab": {
          "base_uri": "https://localhost:8080/"
        },
        "id": "vy4FeGQLDeIO",
        "outputId": "30c7dc00-14bd-4862-a85a-de041cac071f"
      },
      "execution_count": null,
      "outputs": [
        {
          "output_type": "execute_result",
          "data": {
            "text/plain": [
              "0.7383313885647608"
            ]
          },
          "metadata": {},
          "execution_count": 76
        }
      ]
    },
    {
      "cell_type": "markdown",
      "source": [
        "A Logistic Regression is a sigmoid function which can divide 2 classes like linear regression. It takes a condition and if the condition is passed it goes into true class if not false class.\n",
        "\n",
        "Theta = -(1/n) summation from 1 to n [y(i)log(p(i))+(1-y(i))log(1-p(i))]"
      ],
      "metadata": {
        "id": "RaPmibdwEW0k"
      }
    },
    {
      "cell_type": "code",
      "source": [
        "# Support Vector Machine\n",
        "from sklearn.svm import SVC\n",
        "# define linear kernel, P156\n",
        "svm_model_linear = SVC(C = 1 ) \n",
        "svm_model_linear.fit(x_train_normalized,y_train)\n",
        "svm_model_linear.predict(x_test_normalized)\n",
        "svm_model_linear.score(x_train_normalized,y_train)"
      ],
      "metadata": {
        "id": "_yerpmW-D2kW",
        "colab": {
          "base_uri": "https://localhost:8080/"
        },
        "outputId": "8e5e8f1b-7185-484b-988c-42634c71273a"
      },
      "execution_count": null,
      "outputs": [
        {
          "output_type": "execute_result",
          "data": {
            "text/plain": [
              "0.7759626604434072"
            ]
          },
          "metadata": {},
          "execution_count": 132
        }
      ]
    },
    {
      "cell_type": "code",
      "source": [
        "# define polynomial kernel, P158\n",
        "svm_model_polynomial = SVC(kernel = \"poly\", degree = 3, C = 5 ) \n",
        "svm_model_polynomial.fit(x_train_normalized,y_train)\n",
        "svm_model_polynomial.predict(x_test_normalized)\n",
        "svm_model_polynomial.score(x_train_normalized,y_train)"
      ],
      "metadata": {
        "colab": {
          "base_uri": "https://localhost:8080/"
        },
        "id": "_nrVlaUPMZ8q",
        "outputId": "33c93d53-3bf8-4115-a1c4-e954f51179a0"
      },
      "execution_count": null,
      "outputs": [
        {
          "output_type": "execute_result",
          "data": {
            "text/plain": [
              "array([1, 0, 0, ..., 0, 1, 1])"
            ]
          },
          "metadata": {},
          "execution_count": 133
        }
      ]
    },
    {
      "cell_type": "code",
      "source": [
        "svm_model_rbf = SVC(kernel = \"rbf\", gamma = 5, C = 2 ) \n",
        "svm_model_rbf.fit(x_train_normalized,y_train)\n",
        "svm_model_rbf.predict(x_test_normalized)\n",
        "svm_model_rbf.score(x_train_normalized,y_train)"
      ],
      "metadata": {
        "colab": {
          "base_uri": "https://localhost:8080/"
        },
        "id": "Yp0BGGTjMkS5",
        "outputId": "48cc000e-1734-4afe-c11d-e1446c1dc57b"
      },
      "execution_count": null,
      "outputs": [
        {
          "output_type": "execute_result",
          "data": {
            "text/plain": [
              "array([1, 0, 0, ..., 0, 1, 1])"
            ]
          },
          "metadata": {},
          "execution_count": 134
        }
      ]
    },
    {
      "cell_type": "markdown",
      "source": [
        "The objective of SVM to find the optimal linear classifier is to find a hyperplane which is a line for a linear classifier which differentiates the two classifiers.\n",
        "\n",
        "Linear, Non-Linear, polynomial kernel, Gaussian RBF kernel are available kernel functions for SVM to conduct linear and non-linear classification"
      ],
      "metadata": {
        "id": "NvFpfWvAEY6u"
      }
    },
    {
      "cell_type": "code",
      "source": [
        "#Decision Tree\n",
        "from sklearn.tree import DecisionTreeClassifier\n",
        "decision_tree_model = DecisionTreeClassifier(max_depth = 3) # define tree model\n",
        "decision_tree_model.fit(x_train_normalized,y_train)\n",
        "decision_tree_model.predict(x_test_normalized)\n",
        "decision_tree_model.score(x_train_normalized,y_train)"
      ],
      "metadata": {
        "colab": {
          "base_uri": "https://localhost:8080/"
        },
        "id": "mZBDJy5tpTHz",
        "outputId": "9794cf1a-a83f-4fa6-86f7-7e16006f7491"
      },
      "execution_count": null,
      "outputs": [
        {
          "output_type": "execute_result",
          "data": {
            "text/plain": [
              "array([1, 0, 1, ..., 1, 0, 1])"
            ]
          },
          "metadata": {},
          "execution_count": 135
        }
      ]
    },
    {
      "cell_type": "markdown",
      "source": [
        "Step1: Determine the Root of the Tree, Step2: Calculate Entropy for The Classes, Step3: Calculate Entropy After Split for Each Attribute\n",
        "Step4: Calculate Information Gain for each split , Step5: Perform the Split\n",
        "Step6: Perform Further Splits, Step7: Complete the Decision Tree. Features are selected through feature space by ranking their mutual information with the ranked once.\n",
        "\n",
        "The decision tree's hyper-parameters, such as max depth, min samples leaf, and min samples split, can be adjusted to stop the tree's growth early and stop the model from overfitting. Pre-pruning, which results in a tree with fewer branches than would otherwise be the case, and post-pruning are the two techniques for overcoming overfitting (generating a tree in full and then removing parts of it)."
      ],
      "metadata": {
        "id": "BODnpnxLEnhF"
      }
    },
    {
      "cell_type": "code",
      "source": [
        "# Random Forest\n",
        "from sklearn.ensemble import RandomForestClassifier\n",
        "random_forest_model = RandomForestClassifier(n_estimators = 100, max_leaf_nodes = 18)\n",
        "random_forest_model.fit(x_train_normalized,y_train)\n",
        "random_forest_model.predict(x_test_normalized)\n",
        "random_forest_model.score(x_train_normalized,y_train)"
      ],
      "metadata": {
        "colab": {
          "base_uri": "https://localhost:8080/"
        },
        "id": "e5ymw4wrsBCp",
        "outputId": "545f57bc-753e-42c4-abd2-675e8541bc26"
      },
      "execution_count": null,
      "outputs": [
        {
          "output_type": "execute_result",
          "data": {
            "text/plain": [
              "array([1, 0, 0, ..., 1, 1, 1])"
            ]
          },
          "metadata": {},
          "execution_count": 136
        }
      ]
    },
    {
      "cell_type": "markdown",
      "source": [
        "Ensemble learning methods work by combining the mapping functions learned by contributing members.\n",
        "Ensembles for classification are best understood by the combination of decision boundaries of members.\n",
        "Ensembles for regression are best understood by the combination of hyperplanes of members.\n",
        "\n",
        "It divides up the training set into smaller groups that solely contain particular features. The training set is sampled at random from with replacement to select the desired number of features. The random patches method is what is used when the random subspace method is combined with bagging or pasting.\n",
        "\n",
        "It is determined as the node impurity reduction multiplied by the likelihood of reaching that node. The node probability can be computed by dividing the total number of samples by the number of samples that reach the node. The feature is more significant the higher the value.\n"
      ],
      "metadata": {
        "id": "KD1DGWo_FKAS"
      }
    },
    {
      "cell_type": "code",
      "source": [
        "# K Nearest-neighbors\n",
        "from sklearn.neighbors import KNeighborsClassifier\n",
        "knn_model = KNeighborsClassifier(n_neighbors = 5, metric = \"minkowski\")\n",
        "knn_model.fit(x_train_normalized,y_train)\n",
        "knn_model.predict(x_test_normalized)\n",
        "knn_model.score(x_train_normalized,y_train)"
      ],
      "metadata": {
        "colab": {
          "base_uri": "https://localhost:8080/"
        },
        "id": "nOTR5ezCsreo",
        "outputId": "2b867ef2-9a48-4d4c-9ebb-5130d1ee57fe"
      },
      "execution_count": null,
      "outputs": [
        {
          "output_type": "execute_result",
          "data": {
            "text/plain": [
              "array([1, 0, 0, ..., 0, 1, 1])"
            ]
          },
          "metadata": {},
          "execution_count": 137
        }
      ]
    },
    {
      "cell_type": "code",
      "source": [
        "from sklearn.metrics import accuracy_score, precision_score, recall_score, roc_auc_score, f1_score\n",
        "# Logistic regression - performance on the test data\n",
        "logistic_pred = logistic_model.predict(x_test_normalized)\n",
        "logistic_acc = accuracy_score(y_test, logistic_pred )\n",
        "logistic_prec = precision_score(y_test, logistic_pred )\n",
        "logistic_recall = recall_score(y_test, logistic_pred )\n",
        "logistic_roc = roc_auc_score(y_test, logistic_pred )\n",
        "logistic_f1 = f1_score(y_test, logistic_pred )\n",
        "print(logistic_acc)\n",
        "print(logistic_prec)\n",
        "print(logistic_recall)\n",
        "print(logistic_roc)\n",
        "print(logistic_f1)"
      ],
      "metadata": {
        "colab": {
          "base_uri": "https://localhost:8080/"
        },
        "id": "fK9vIfbn5Ozf",
        "outputId": "f95ffd12-fdf5-439c-baab-9982956c9b95"
      },
      "execution_count": null,
      "outputs": [
        {
          "output_type": "stream",
          "name": "stdout",
          "text": [
            "0.7551020408163265\n",
            "0.7705207413945278\n",
            "0.8972250770811921\n",
            "0.6870431220416021\n",
            "0.829059829059829\n"
          ]
        }
      ]
    },
    {
      "cell_type": "code",
      "source": [
        "# SVM - performance on the test data\n",
        "\n",
        "svm_pred = svm_model_linear.predict(x_test_normalized)\n",
        "svm_acc = accuracy_score(y_test, svm_pred )\n",
        "svm_prec = precision_score(y_test, svm_pred )\n",
        "svm_recall = recall_score(y_test, svm_pred )\n",
        "svm_roc = roc_auc_score(y_test, svm_pred )\n",
        "svm_f1 = f1_score(y_test, svm_pred )\n",
        "print(svm_acc)\n",
        "print(svm_prec)\n",
        "print(svm_recall)\n",
        "print(svm_roc)\n",
        "print(svm_f1)"
      ],
      "metadata": {
        "colab": {
          "base_uri": "https://localhost:8080/"
        },
        "id": "7IvRIV8xGEnZ",
        "outputId": "0b58f156-f541-47df-cb6f-d9cc2505bc22"
      },
      "execution_count": null,
      "outputs": [
        {
          "output_type": "stream",
          "name": "stdout",
          "text": [
            "0.7775510204081633\n",
            "0.792572463768116\n",
            "0.8992805755395683\n",
            "0.7192579940072087\n",
            "0.8425613866153104\n"
          ]
        }
      ]
    },
    {
      "cell_type": "code",
      "source": [
        "# KNN - performance on the test data\n",
        "\n",
        "from sklearn.metrics import accuracy_score, precision_score, recall_score, roc_auc_score, f1_score\n",
        "knn_model_pred = knn_model.predict(x_test_normalized)\n",
        "knn_model_acc = accuracy_score(y_test, knn_model_pred )\n",
        "knn_model_prec = precision_score(y_test, knn_model_pred )\n",
        "knn_model_recall = recall_score(y_test, knn_model_pred )\n",
        "knn_model_roc = roc_auc_score(y_test, knn_model_pred )\n",
        "knn_model_f1 = f1_score(y_test, knn_model_pred )\n",
        "print(knn_model_acc)\n",
        "print(knn_model_prec)\n",
        "print(knn_model_recall)\n",
        "print(knn_model_roc)\n",
        "print(knn_model_f1)"
      ],
      "metadata": {
        "colab": {
          "base_uri": "https://localhost:8080/"
        },
        "id": "iKQBH4No_MgJ",
        "outputId": "e9db310e-087a-464f-8675-b1863397176b"
      },
      "execution_count": null,
      "outputs": [
        {
          "output_type": "stream",
          "name": "stdout",
          "text": [
            "0.7687074829931972\n",
            "0.8099902056807052\n",
            "0.8499486125385406\n",
            "0.7298032801123286\n",
            "0.8294884653961886\n"
          ]
        }
      ]
    },
    {
      "cell_type": "code",
      "source": [
        "# Decision Tree - performance on the test data\n",
        "\n",
        "from sklearn.metrics import accuracy_score, precision_score, recall_score, roc_auc_score, f1_score\n",
        "decision_tree_model_pred = decision_tree_model.predict(x_test_normalized)\n",
        "decision_tree_model_acc = accuracy_score(y_test, decision_tree_model_pred )\n",
        "decision_tree_model_prec = precision_score(y_test, decision_tree_model_pred )\n",
        "decision_tree_model_recall = recall_score(y_test, decision_tree_model_pred )\n",
        "decision_tree_model_roc = roc_auc_score(y_test, decision_tree_model_pred )\n",
        "decision_tree_model_f1 = f1_score(y_test, decision_tree_model_pred )\n",
        "print(decision_tree_model_acc)\n",
        "print(decision_tree_model_prec)\n",
        "print(decision_tree_model_recall)\n",
        "print(decision_tree_model_roc)\n",
        "print(decision_tree_model_f1)"
      ],
      "metadata": {
        "colab": {
          "base_uri": "https://localhost:8080/"
        },
        "id": "f0_a9J3O7T3X",
        "outputId": "54e681e7-4cfc-4f7f-ca68-dec82b82ae5d"
      },
      "execution_count": null,
      "outputs": [
        {
          "output_type": "stream",
          "name": "stdout",
          "text": [
            "0.763265306122449\n",
            "0.8238341968911918\n",
            "0.817060637204522\n",
            "0.7375041616606112\n",
            "0.8204334365325078\n"
          ]
        }
      ]
    },
    {
      "cell_type": "code",
      "source": [
        "# Random Forest - performance on the test data\n",
        "\n",
        "from sklearn.metrics import accuracy_score, precision_score, recall_score, roc_auc_score, f1_score\n",
        "random_forest_model_pred = random_forest_model.predict(x_test_normalized)\n",
        "random_forest_model_acc = accuracy_score(y_test, random_forest_model_pred )\n",
        "random_forest_model_prec = precision_score(y_test, random_forest_model_pred )\n",
        "random_forest_model_recall = recall_score(y_test, random_forest_model_pred )\n",
        "random_forest_model_roc = roc_auc_score(y_test, random_forest_model_pred )\n",
        "random_forest_model_f1 = f1_score(y_test, random_forest_model_pred )\n",
        "print(random_forest_model_acc)\n",
        "print(random_forest_model_prec)\n",
        "print(random_forest_model_recall)\n",
        "print(random_forest_model_roc)\n",
        "print(random_forest_model_f1)"
      ],
      "metadata": {
        "colab": {
          "base_uri": "https://localhost:8080/"
        },
        "id": "2bOeRuUQ7l6c",
        "outputId": "c2ed1fb1-a097-46a7-e356-e979cb877071"
      },
      "execution_count": null,
      "outputs": [
        {
          "output_type": "stream",
          "name": "stdout",
          "text": [
            "0.7829931972789116\n",
            "0.7935368043087971\n",
            "0.9085303186022611\n",
            "0.7228768293212513\n",
            "0.8471490177287974\n"
          ]
        }
      ]
    },
    {
      "cell_type": "code",
      "source": [
        "TablarData = {'Methods': ['Logistic Regression', 'SVM', 'Random Forest', 'Decision Tree','KNN'],\n",
        "        'Accuracy': [logistic_acc, svm_acc,random_forest_model_acc ,decision_tree_model_acc,knn_model_acc ],\n",
        "        'Precision':[logistic_prec,svm_prec,random_forest_model_prec,decision_tree_model_prec,knn_model_prec],\n",
        "        'Recall':[logistic_recall,svm_recall,random_forest_model_recall,decision_tree_model_recall,knn_model_recall],\n",
        "        'F1-score':[logistic_f1,svm_f1,random_forest_model_f1,decision_tree_model_f1,knn_model_f1],\n",
        "        'AUC score':[logistic_roc,svm_roc,random_forest_model_roc,decision_tree_model_roc,knn_model_roc]}\n",
        "\n",
        "evaluation_metrics=pd.DataFrame(TablarData)"
      ],
      "metadata": {
        "id": "Sl7A8z7aw5q7"
      },
      "execution_count": null,
      "outputs": []
    },
    {
      "cell_type": "code",
      "source": [
        "# Evaluation Metrics\n",
        "evaluation_metrics"
      ],
      "metadata": {
        "colab": {
          "base_uri": "https://localhost:8080/",
          "height": 206
        },
        "id": "TVwsxbjsG0mh",
        "outputId": "f071f44f-5342-470c-dc52-6d65d287c74e"
      },
      "execution_count": null,
      "outputs": [
        {
          "output_type": "execute_result",
          "data": {
            "text/plain": [
              "               Methods  Accuracy  Precision    Recall  F1-score  AUC score\n",
              "0  Logistic Regression  0.755102   0.770521  0.897225  0.829060   0.687043\n",
              "1                  SVM  0.777551   0.792572  0.899281  0.842561   0.719258\n",
              "2        Random Forest  0.785034   0.792520  0.914697  0.849237   0.722942\n",
              "3        Decision Tree  0.631973   0.695298  0.790339  0.739779   0.556135\n",
              "4                  KNN  0.768707   0.809990  0.849949  0.829488   0.729803"
            ],
            "text/html": [
              "\n",
              "  <div id=\"df-5b58adb1-b343-4e4b-8b82-78d4a8653e1b\">\n",
              "    <div class=\"colab-df-container\">\n",
              "      <div>\n",
              "<style scoped>\n",
              "    .dataframe tbody tr th:only-of-type {\n",
              "        vertical-align: middle;\n",
              "    }\n",
              "\n",
              "    .dataframe tbody tr th {\n",
              "        vertical-align: top;\n",
              "    }\n",
              "\n",
              "    .dataframe thead th {\n",
              "        text-align: right;\n",
              "    }\n",
              "</style>\n",
              "<table border=\"1\" class=\"dataframe\">\n",
              "  <thead>\n",
              "    <tr style=\"text-align: right;\">\n",
              "      <th></th>\n",
              "      <th>Methods</th>\n",
              "      <th>Accuracy</th>\n",
              "      <th>Precision</th>\n",
              "      <th>Recall</th>\n",
              "      <th>F1-score</th>\n",
              "      <th>AUC score</th>\n",
              "    </tr>\n",
              "  </thead>\n",
              "  <tbody>\n",
              "    <tr>\n",
              "      <th>0</th>\n",
              "      <td>Logistic Regression</td>\n",
              "      <td>0.755102</td>\n",
              "      <td>0.770521</td>\n",
              "      <td>0.897225</td>\n",
              "      <td>0.829060</td>\n",
              "      <td>0.687043</td>\n",
              "    </tr>\n",
              "    <tr>\n",
              "      <th>1</th>\n",
              "      <td>SVM</td>\n",
              "      <td>0.777551</td>\n",
              "      <td>0.792572</td>\n",
              "      <td>0.899281</td>\n",
              "      <td>0.842561</td>\n",
              "      <td>0.719258</td>\n",
              "    </tr>\n",
              "    <tr>\n",
              "      <th>2</th>\n",
              "      <td>Random Forest</td>\n",
              "      <td>0.785034</td>\n",
              "      <td>0.792520</td>\n",
              "      <td>0.914697</td>\n",
              "      <td>0.849237</td>\n",
              "      <td>0.722942</td>\n",
              "    </tr>\n",
              "    <tr>\n",
              "      <th>3</th>\n",
              "      <td>Decision Tree</td>\n",
              "      <td>0.631973</td>\n",
              "      <td>0.695298</td>\n",
              "      <td>0.790339</td>\n",
              "      <td>0.739779</td>\n",
              "      <td>0.556135</td>\n",
              "    </tr>\n",
              "    <tr>\n",
              "      <th>4</th>\n",
              "      <td>KNN</td>\n",
              "      <td>0.768707</td>\n",
              "      <td>0.809990</td>\n",
              "      <td>0.849949</td>\n",
              "      <td>0.829488</td>\n",
              "      <td>0.729803</td>\n",
              "    </tr>\n",
              "  </tbody>\n",
              "</table>\n",
              "</div>\n",
              "      <button class=\"colab-df-convert\" onclick=\"convertToInteractive('df-5b58adb1-b343-4e4b-8b82-78d4a8653e1b')\"\n",
              "              title=\"Convert this dataframe to an interactive table.\"\n",
              "              style=\"display:none;\">\n",
              "        \n",
              "  <svg xmlns=\"http://www.w3.org/2000/svg\" height=\"24px\"viewBox=\"0 0 24 24\"\n",
              "       width=\"24px\">\n",
              "    <path d=\"M0 0h24v24H0V0z\" fill=\"none\"/>\n",
              "    <path d=\"M18.56 5.44l.94 2.06.94-2.06 2.06-.94-2.06-.94-.94-2.06-.94 2.06-2.06.94zm-11 1L8.5 8.5l.94-2.06 2.06-.94-2.06-.94L8.5 2.5l-.94 2.06-2.06.94zm10 10l.94 2.06.94-2.06 2.06-.94-2.06-.94-.94-2.06-.94 2.06-2.06.94z\"/><path d=\"M17.41 7.96l-1.37-1.37c-.4-.4-.92-.59-1.43-.59-.52 0-1.04.2-1.43.59L10.3 9.45l-7.72 7.72c-.78.78-.78 2.05 0 2.83L4 21.41c.39.39.9.59 1.41.59.51 0 1.02-.2 1.41-.59l7.78-7.78 2.81-2.81c.8-.78.8-2.07 0-2.86zM5.41 20L4 18.59l7.72-7.72 1.47 1.35L5.41 20z\"/>\n",
              "  </svg>\n",
              "      </button>\n",
              "      \n",
              "  <style>\n",
              "    .colab-df-container {\n",
              "      display:flex;\n",
              "      flex-wrap:wrap;\n",
              "      gap: 12px;\n",
              "    }\n",
              "\n",
              "    .colab-df-convert {\n",
              "      background-color: #E8F0FE;\n",
              "      border: none;\n",
              "      border-radius: 50%;\n",
              "      cursor: pointer;\n",
              "      display: none;\n",
              "      fill: #1967D2;\n",
              "      height: 32px;\n",
              "      padding: 0 0 0 0;\n",
              "      width: 32px;\n",
              "    }\n",
              "\n",
              "    .colab-df-convert:hover {\n",
              "      background-color: #E2EBFA;\n",
              "      box-shadow: 0px 1px 2px rgba(60, 64, 67, 0.3), 0px 1px 3px 1px rgba(60, 64, 67, 0.15);\n",
              "      fill: #174EA6;\n",
              "    }\n",
              "\n",
              "    [theme=dark] .colab-df-convert {\n",
              "      background-color: #3B4455;\n",
              "      fill: #D2E3FC;\n",
              "    }\n",
              "\n",
              "    [theme=dark] .colab-df-convert:hover {\n",
              "      background-color: #434B5C;\n",
              "      box-shadow: 0px 1px 3px 1px rgba(0, 0, 0, 0.15);\n",
              "      filter: drop-shadow(0px 1px 2px rgba(0, 0, 0, 0.3));\n",
              "      fill: #FFFFFF;\n",
              "    }\n",
              "  </style>\n",
              "\n",
              "      <script>\n",
              "        const buttonEl =\n",
              "          document.querySelector('#df-5b58adb1-b343-4e4b-8b82-78d4a8653e1b button.colab-df-convert');\n",
              "        buttonEl.style.display =\n",
              "          google.colab.kernel.accessAllowed ? 'block' : 'none';\n",
              "\n",
              "        async function convertToInteractive(key) {\n",
              "          const element = document.querySelector('#df-5b58adb1-b343-4e4b-8b82-78d4a8653e1b');\n",
              "          const dataTable =\n",
              "            await google.colab.kernel.invokeFunction('convertToInteractive',\n",
              "                                                     [key], {});\n",
              "          if (!dataTable) return;\n",
              "\n",
              "          const docLinkHtml = 'Like what you see? Visit the ' +\n",
              "            '<a target=\"_blank\" href=https://colab.research.google.com/notebooks/data_table.ipynb>data table notebook</a>'\n",
              "            + ' to learn more about interactive tables.';\n",
              "          element.innerHTML = '';\n",
              "          dataTable['output_type'] = 'display_data';\n",
              "          await google.colab.output.renderOutput(dataTable, element);\n",
              "          const docLink = document.createElement('div');\n",
              "          docLink.innerHTML = docLinkHtml;\n",
              "          element.appendChild(docLink);\n",
              "        }\n",
              "      </script>\n",
              "    </div>\n",
              "  </div>\n",
              "  "
            ]
          },
          "metadata": {},
          "execution_count": 101
        }
      ]
    },
    {
      "cell_type": "markdown",
      "source": [
        "Perform 10-fold cross-validation and hyper-parameter tuning for all models"
      ],
      "metadata": {
        "id": "YVHxdJ-1G-SE"
      }
    },
    {
      "cell_type": "code",
      "source": [
        "# Logistic regression - 10-fold cross-validation and hyper-parameter tuning\n",
        "\n",
        "hyperparameter_set = {'C': [0.05,0.1,0.01,0.001,0.0001,0.5,0.08,0.7,0.47,0.8]}\n",
        "from sklearn.model_selection import RandomizedSearchCV\n",
        "logistic_cv=RandomizedSearchCV(logistic_model,hyperparameter_set, cv=10)\n",
        "logistic_cv.fit(x_train_normalized,y_train)\n",
        "logistic_predicted_cv=logistic_cv.predict(x_test_normalized)\n",
        "logistic_cv.best_params_"
      ],
      "metadata": {
        "colab": {
          "base_uri": "https://localhost:8080/"
        },
        "id": "zlbtrZmQG_DS",
        "outputId": "0fe1bc2c-bbf9-4f78-c23b-42d60f9b9575"
      },
      "execution_count": null,
      "outputs": [
        {
          "output_type": "execute_result",
          "data": {
            "text/plain": [
              "{'C': 0.8}"
            ]
          },
          "metadata": {},
          "execution_count": 143
        }
      ]
    },
    {
      "cell_type": "code",
      "source": [
        "logistic_acc_cv = accuracy_score(y_test, logistic_predicted_cv )\n",
        "logistic_prec_cv = precision_score(y_test, logistic_predicted_cv )\n",
        "logistic_recall_cv = recall_score(y_test, logistic_predicted_cv)\n",
        "logistic_roc_cv = roc_auc_score(y_test, logistic_predicted_cv )\n",
        "logistic_f1_cv = f1_score(y_test, logistic_predicted_cv)\n",
        "print(logistic_acc_cv)\n",
        "print(logistic_prec_cv)\n",
        "print(logistic_recall_cv)\n",
        "print(logistic_roc_cv)\n",
        "print(logistic_f1_cv)"
      ],
      "metadata": {
        "colab": {
          "base_uri": "https://localhost:8080/"
        },
        "id": "eUdG2uvOHPBp",
        "outputId": "5c3e5a70-5235-4e2c-c2a2-86fc67d53bf7"
      },
      "execution_count": null,
      "outputs": [
        {
          "output_type": "stream",
          "name": "stdout",
          "text": [
            "0.7537414965986394\n",
            "0.7686895338610378\n",
            "0.8982528263103803\n",
            "0.6845388880042846\n",
            "0.828436018957346\n"
          ]
        }
      ]
    },
    {
      "cell_type": "code",
      "source": [
        "# Support Vector Machine - 10-fold cross-validation and hyper-parameter tuning\n",
        "\n",
        "hyperparameter_set_svm = {'C': [0.001, 0.01, 0.1, 1, 10], 'kernel':['linear','rbf'], 'gamma':[0.001,0.01,0.1,1]}\n",
        "svm=SVC(probability=True)\n",
        "svm_cv=RandomizedSearchCV(svm,hyperparameter_set_svm,cv=10)\n",
        "svm_cv.fit(x_train_normalized,y_train)\n",
        "svm_predicted_cv=svm_cv.predict(x_test_normalized)\n",
        "svm_cv.best_params_"
      ],
      "metadata": {
        "colab": {
          "base_uri": "https://localhost:8080/"
        },
        "id": "WGuhRYcOHbPd",
        "outputId": "2c5fe243-3c12-4c68-81bb-5fafa513b9b7"
      },
      "execution_count": null,
      "outputs": [
        {
          "output_type": "execute_result",
          "data": {
            "text/plain": [
              "{'kernel': 'linear', 'gamma': 1, 'C': 10}"
            ]
          },
          "metadata": {},
          "execution_count": 144
        }
      ]
    },
    {
      "cell_type": "code",
      "source": [
        "svm_acc_cv = accuracy_score(y_test, svm_predicted_cv )\n",
        "svm_prec_cv = precision_score(y_test, svm_predicted_cv )\n",
        "svm_recall_cv = recall_score(y_test, svm_predicted_cv )\n",
        "svm_roc_cv = roc_auc_score(y_test, svm_predicted_cv )\n",
        "svm_f1_cv = f1_score(y_test, svm_predicted_cv )\n",
        "print(svm_acc_cv)\n",
        "print(svm_prec_cv)\n",
        "print(svm_recall_cv)\n",
        "print(svm_roc_cv)\n",
        "print(svm_f1_cv)"
      ],
      "metadata": {
        "colab": {
          "base_uri": "https://localhost:8080/"
        },
        "id": "QnwJNC2ZHexj",
        "outputId": "754cfe29-59c9-4255-d46c-b13cb9b7ffeb"
      },
      "execution_count": null,
      "outputs": [
        {
          "output_type": "stream",
          "name": "stdout",
          "text": [
            "0.7653061224489796\n",
            "0.7692967409948542\n",
            "0.9218910585817061\n",
            "0.6903217868361247\n",
            "0.8387096774193549\n"
          ]
        }
      ]
    },
    {
      "cell_type": "code",
      "source": [
        "# Random Forest - 10-fold cross-validation and hyper-parameter tuning\n",
        "\n",
        "hyperparameter_set_rf = {'n_estimators': [100, 200, 300, 400], 'max_features': ['auto', 'sqrt']}\n",
        "random_forest = RandomForestClassifier(random_state=60)\n",
        "random_forest_cv=RandomizedSearchCV(random_forest,hyperparameter_set_rf,cv=10)\n",
        "random_forest_cv.fit(x_train_normalized,y_train)\n",
        "random_forest_predicted_cv=random_forest_cv.predict(x_test_normalized)\n",
        "random_forest_cv.best_params_"
      ],
      "metadata": {
        "colab": {
          "base_uri": "https://localhost:8080/"
        },
        "id": "C7PjU8JMHvOM",
        "outputId": "c643b3e3-e756-4311-d685-03e10fdccb6a"
      },
      "execution_count": null,
      "outputs": [
        {
          "output_type": "stream",
          "name": "stderr",
          "text": [
            "/usr/local/lib/python3.7/dist-packages/sklearn/model_selection/_search.py:296: UserWarning: The total space of parameters 8 is smaller than n_iter=10. Running 8 iterations. For exhaustive searches, use GridSearchCV.\n",
            "  UserWarning,\n"
          ]
        },
        {
          "output_type": "execute_result",
          "data": {
            "text/plain": [
              "{'n_estimators': 300, 'max_features': 'auto'}"
            ]
          },
          "metadata": {},
          "execution_count": 106
        }
      ]
    },
    {
      "cell_type": "code",
      "source": [
        "random_forest_model_acc_cv = accuracy_score(y_test, random_forest_predicted_cv )\n",
        "random_forest_model_prec_cv = precision_score(y_test, random_forest_predicted_cv )\n",
        "random_forest_model_recall_cv = recall_score(y_test, random_forest_predicted_cv )\n",
        "random_forest_model_roc_cv = roc_auc_score(y_test, random_forest_predicted_cv )\n",
        "random_forest_model_f1_cv = f1_score(y_test, random_forest_predicted_cv )\n",
        "print(random_forest_model_acc_cv)\n",
        "print(random_forest_model_prec_cv)\n",
        "print(random_forest_model_recall_cv)\n",
        "print(random_forest_model_roc_cv)\n",
        "print(random_forest_model_f1_cv)"
      ],
      "metadata": {
        "colab": {
          "base_uri": "https://localhost:8080/"
        },
        "id": "etMgev5DHpKt",
        "outputId": "d3f511e2-ff83-4bcf-e2f1-889e7dd37b07"
      },
      "execution_count": null,
      "outputs": [
        {
          "output_type": "stream",
          "name": "stdout",
          "text": [
            "0.8482993197278912\n",
            "0.8654970760233918\n",
            "0.9126413155190134\n",
            "0.8174876597715791\n",
            "0.8884442221110554\n"
          ]
        }
      ]
    },
    {
      "cell_type": "code",
      "source": [
        "# KNN - 10-fold cross-validation and hyper-parameter tuning\n",
        "hyperparameter_set_knn = {'n_neighbors': [6, 3, 5, 7, 9]}\n",
        "knn = KNeighborsClassifier()\n",
        "knn_cv=RandomizedSearchCV(knn,hyperparameter_set_knn,cv=10)\n",
        "knn_cv.fit(x_train_normalized,y_train)\n",
        "knn_predicted_cv=knn_cv.predict(x_test_normalized)\n",
        "knn_cv.best_params_"
      ],
      "metadata": {
        "colab": {
          "base_uri": "https://localhost:8080/"
        },
        "id": "ZuxxDn5rKFGR",
        "outputId": "34657ad0-ee33-458a-c821-9ca7266c5e89"
      },
      "execution_count": null,
      "outputs": [
        {
          "output_type": "stream",
          "name": "stderr",
          "text": [
            "/usr/local/lib/python3.7/dist-packages/sklearn/model_selection/_search.py:296: UserWarning: The total space of parameters 5 is smaller than n_iter=10. Running 5 iterations. For exhaustive searches, use GridSearchCV.\n",
            "  UserWarning,\n"
          ]
        },
        {
          "output_type": "execute_result",
          "data": {
            "text/plain": [
              "{'n_neighbors': 9}"
            ]
          },
          "metadata": {},
          "execution_count": 109
        }
      ]
    },
    {
      "cell_type": "code",
      "source": [
        "knn_acc_cv = accuracy_score(y_test, knn_predicted_cv )\n",
        "knn_prec_cv = precision_score(y_test, knn_predicted_cv )\n",
        "knn_recall_cv = recall_score(y_test, knn_predicted_cv )\n",
        "knn_roc_cv = roc_auc_score(y_test, knn_predicted_cv )\n",
        "knn_f1_cv = f1_score(y_test, knn_predicted_cv )"
      ],
      "metadata": {
        "id": "D0RHxyuaKCM3"
      },
      "execution_count": null,
      "outputs": []
    },
    {
      "cell_type": "code",
      "source": [
        "TablarData_cv = {'Methods': ['Logistic Regression', 'SVM', 'Random Forest','KNN'],\n",
        "        'Accuracy': [logistic_acc_cv, svm_acc_cv,random_forest_model_acc_cv ,knn_acc_cv ],\n",
        "        'Precision':[logistic_prec_cv,svm_prec_cv,random_forest_model_prec_cv,knn_prec_cv],\n",
        "        'Recall':[logistic_recall_cv,svm_recall_cv,random_forest_model_recall_cv,knn_recall_cv],\n",
        "        'F1-score':[logistic_f1_cv,svm_f1_cv,random_forest_model_f1_cv,knn_f1_cv],\n",
        "        'AUC score':[logistic_roc_cv,svm_roc_cv,random_forest_model_roc_cv,knn_roc_cv]}\n",
        "\n",
        "evaluation_metrics_cv=pd.DataFrame(TablarData_cv)"
      ],
      "metadata": {
        "id": "MktkqQ0LJnhJ"
      },
      "execution_count": null,
      "outputs": []
    },
    {
      "cell_type": "code",
      "source": [
        "evaluation_metrics_cv"
      ],
      "metadata": {
        "colab": {
          "base_uri": "https://localhost:8080/",
          "height": 175
        },
        "id": "tvqvvNLTKOoi",
        "outputId": "f47c6a08-ba83-4ec3-cdcb-00b5d3d3858a"
      },
      "execution_count": null,
      "outputs": [
        {
          "output_type": "execute_result",
          "data": {
            "text/plain": [
              "               Methods  Accuracy  Precision    Recall  F1-score  AUC score\n",
              "0  Logistic Regression  0.753741   0.768690  0.898253  0.828436   0.684539\n",
              "1                  SVM  0.765306   0.769297  0.921891  0.838710   0.690322\n",
              "2        Random Forest  0.848299   0.865497  0.912641  0.888444   0.817488\n",
              "3                  KNN  0.759864   0.791353  0.865365  0.826706   0.709342"
            ],
            "text/html": [
              "\n",
              "  <div id=\"df-2569c860-ac13-4637-a674-ad99df7ef8b5\">\n",
              "    <div class=\"colab-df-container\">\n",
              "      <div>\n",
              "<style scoped>\n",
              "    .dataframe tbody tr th:only-of-type {\n",
              "        vertical-align: middle;\n",
              "    }\n",
              "\n",
              "    .dataframe tbody tr th {\n",
              "        vertical-align: top;\n",
              "    }\n",
              "\n",
              "    .dataframe thead th {\n",
              "        text-align: right;\n",
              "    }\n",
              "</style>\n",
              "<table border=\"1\" class=\"dataframe\">\n",
              "  <thead>\n",
              "    <tr style=\"text-align: right;\">\n",
              "      <th></th>\n",
              "      <th>Methods</th>\n",
              "      <th>Accuracy</th>\n",
              "      <th>Precision</th>\n",
              "      <th>Recall</th>\n",
              "      <th>F1-score</th>\n",
              "      <th>AUC score</th>\n",
              "    </tr>\n",
              "  </thead>\n",
              "  <tbody>\n",
              "    <tr>\n",
              "      <th>0</th>\n",
              "      <td>Logistic Regression</td>\n",
              "      <td>0.753741</td>\n",
              "      <td>0.768690</td>\n",
              "      <td>0.898253</td>\n",
              "      <td>0.828436</td>\n",
              "      <td>0.684539</td>\n",
              "    </tr>\n",
              "    <tr>\n",
              "      <th>1</th>\n",
              "      <td>SVM</td>\n",
              "      <td>0.765306</td>\n",
              "      <td>0.769297</td>\n",
              "      <td>0.921891</td>\n",
              "      <td>0.838710</td>\n",
              "      <td>0.690322</td>\n",
              "    </tr>\n",
              "    <tr>\n",
              "      <th>2</th>\n",
              "      <td>Random Forest</td>\n",
              "      <td>0.848299</td>\n",
              "      <td>0.865497</td>\n",
              "      <td>0.912641</td>\n",
              "      <td>0.888444</td>\n",
              "      <td>0.817488</td>\n",
              "    </tr>\n",
              "    <tr>\n",
              "      <th>3</th>\n",
              "      <td>KNN</td>\n",
              "      <td>0.759864</td>\n",
              "      <td>0.791353</td>\n",
              "      <td>0.865365</td>\n",
              "      <td>0.826706</td>\n",
              "      <td>0.709342</td>\n",
              "    </tr>\n",
              "  </tbody>\n",
              "</table>\n",
              "</div>\n",
              "      <button class=\"colab-df-convert\" onclick=\"convertToInteractive('df-2569c860-ac13-4637-a674-ad99df7ef8b5')\"\n",
              "              title=\"Convert this dataframe to an interactive table.\"\n",
              "              style=\"display:none;\">\n",
              "        \n",
              "  <svg xmlns=\"http://www.w3.org/2000/svg\" height=\"24px\"viewBox=\"0 0 24 24\"\n",
              "       width=\"24px\">\n",
              "    <path d=\"M0 0h24v24H0V0z\" fill=\"none\"/>\n",
              "    <path d=\"M18.56 5.44l.94 2.06.94-2.06 2.06-.94-2.06-.94-.94-2.06-.94 2.06-2.06.94zm-11 1L8.5 8.5l.94-2.06 2.06-.94-2.06-.94L8.5 2.5l-.94 2.06-2.06.94zm10 10l.94 2.06.94-2.06 2.06-.94-2.06-.94-.94-2.06-.94 2.06-2.06.94z\"/><path d=\"M17.41 7.96l-1.37-1.37c-.4-.4-.92-.59-1.43-.59-.52 0-1.04.2-1.43.59L10.3 9.45l-7.72 7.72c-.78.78-.78 2.05 0 2.83L4 21.41c.39.39.9.59 1.41.59.51 0 1.02-.2 1.41-.59l7.78-7.78 2.81-2.81c.8-.78.8-2.07 0-2.86zM5.41 20L4 18.59l7.72-7.72 1.47 1.35L5.41 20z\"/>\n",
              "  </svg>\n",
              "      </button>\n",
              "      \n",
              "  <style>\n",
              "    .colab-df-container {\n",
              "      display:flex;\n",
              "      flex-wrap:wrap;\n",
              "      gap: 12px;\n",
              "    }\n",
              "\n",
              "    .colab-df-convert {\n",
              "      background-color: #E8F0FE;\n",
              "      border: none;\n",
              "      border-radius: 50%;\n",
              "      cursor: pointer;\n",
              "      display: none;\n",
              "      fill: #1967D2;\n",
              "      height: 32px;\n",
              "      padding: 0 0 0 0;\n",
              "      width: 32px;\n",
              "    }\n",
              "\n",
              "    .colab-df-convert:hover {\n",
              "      background-color: #E2EBFA;\n",
              "      box-shadow: 0px 1px 2px rgba(60, 64, 67, 0.3), 0px 1px 3px 1px rgba(60, 64, 67, 0.15);\n",
              "      fill: #174EA6;\n",
              "    }\n",
              "\n",
              "    [theme=dark] .colab-df-convert {\n",
              "      background-color: #3B4455;\n",
              "      fill: #D2E3FC;\n",
              "    }\n",
              "\n",
              "    [theme=dark] .colab-df-convert:hover {\n",
              "      background-color: #434B5C;\n",
              "      box-shadow: 0px 1px 3px 1px rgba(0, 0, 0, 0.15);\n",
              "      filter: drop-shadow(0px 1px 2px rgba(0, 0, 0, 0.3));\n",
              "      fill: #FFFFFF;\n",
              "    }\n",
              "  </style>\n",
              "\n",
              "      <script>\n",
              "        const buttonEl =\n",
              "          document.querySelector('#df-2569c860-ac13-4637-a674-ad99df7ef8b5 button.colab-df-convert');\n",
              "        buttonEl.style.display =\n",
              "          google.colab.kernel.accessAllowed ? 'block' : 'none';\n",
              "\n",
              "        async function convertToInteractive(key) {\n",
              "          const element = document.querySelector('#df-2569c860-ac13-4637-a674-ad99df7ef8b5');\n",
              "          const dataTable =\n",
              "            await google.colab.kernel.invokeFunction('convertToInteractive',\n",
              "                                                     [key], {});\n",
              "          if (!dataTable) return;\n",
              "\n",
              "          const docLinkHtml = 'Like what you see? Visit the ' +\n",
              "            '<a target=\"_blank\" href=https://colab.research.google.com/notebooks/data_table.ipynb>data table notebook</a>'\n",
              "            + ' to learn more about interactive tables.';\n",
              "          element.innerHTML = '';\n",
              "          dataTable['output_type'] = 'display_data';\n",
              "          await google.colab.output.renderOutput(dataTable, element);\n",
              "          const docLink = document.createElement('div');\n",
              "          docLink.innerHTML = docLinkHtml;\n",
              "          element.appendChild(docLink);\n",
              "        }\n",
              "      </script>\n",
              "    </div>\n",
              "  </div>\n",
              "  "
            ]
          },
          "metadata": {},
          "execution_count": 112
        }
      ]
    },
    {
      "cell_type": "code",
      "source": [
        "# model ensemble using the best models\n",
        "from sklearn.ensemble import BaggingClassifier\n",
        "from sklearn.ensemble import RandomForestClassifier\n",
        "from sklearn.ensemble import VotingClassifier\n",
        "from sklearn.model_selection import cross_val_score\n",
        "eclf = VotingClassifier(\n",
        "    estimators=[('lr', logistic_model), ('svm', svm), ('rf', random_forest_model),('knn',knn_model)],\n",
        "    voting='hard')\n",
        "for clf, label in zip([logistic_model, svm, random_forest, knn,eclf], ['Logistic Regression', 'svm', 'Random Forest', 'knn','Ensemble']):\n",
        "    scores = cross_val_score(clf, x_train_normalized, y_train, scoring='accuracy', cv=5)\n",
        "    print(\"Accuracy: %0.2f (+/- %0.2f) [%s]\" % (scores.mean(), scores.std(), label))"
      ],
      "metadata": {
        "colab": {
          "base_uri": "https://localhost:8080/"
        },
        "id": "aoHUsKZKKPJo",
        "outputId": "d7471ec3-1bf8-4eff-a6b7-142041e7f901"
      },
      "execution_count": null,
      "outputs": [
        {
          "output_type": "stream",
          "name": "stdout",
          "text": [
            "Accuracy: 0.74 (+/- 0.02) [Logistic Regression]\n",
            "Accuracy: 0.76 (+/- 0.02) [svm]\n",
            "Accuracy: 0.78 (+/- 0.02) [Random Forest]\n",
            "Accuracy: 0.76 (+/- 0.01) [knn]\n",
            "Accuracy: 0.77 (+/- 0.02) [Ensemble]\n"
          ]
        }
      ]
    },
    {
      "cell_type": "code",
      "source": [
        "# feature importance analysis random forest\n",
        "\n",
        "random_forest = RandomForestClassifier(n_estimators = 5, random_state=60)\n",
        "random_forest.fit(x_train_normalized,y_train)\n",
        "random_forest_importance = random_forest.feature_importances_\n",
        "print(random_forest_importance)"
      ],
      "metadata": {
        "colab": {
          "base_uri": "https://localhost:8080/"
        },
        "id": "_O1OvzJ3KkiQ",
        "outputId": "68004d4d-7849-4aeb-ec66-48b120c91ee4"
      },
      "execution_count": null,
      "outputs": [
        {
          "output_type": "stream",
          "name": "stdout",
          "text": [
            "[0.0587076  0.12218233 0.07220753 0.08954926 0.06426671 0.09279592\n",
            " 0.07883565 0.11256726 0.07646933 0.06468205 0.16773636]\n"
          ]
        }
      ]
    },
    {
      "cell_type": "code",
      "source": [
        "import matplotlib.pyplot as plt\n",
        "features=[\"Feature_1\",\"Feature_2\",\"Feature_3\",\"Feature_4\",\"Feature_5\",\"Feature_6\",\"Feature_7\",\"Feature_8\",\"Feature_9\",\"Feature_10\",\"Feature_11\"]\n",
        "pos = np.arange(len(features))                    \n",
        "plt.barh(pos, random_forest_importance )\n",
        "plt.yticks(pos, labels=features)\n",
        "plt.show()"
      ],
      "metadata": {
        "colab": {
          "base_uri": "https://localhost:8080/",
          "height": 265
        },
        "id": "iXjzOaNpKk20",
        "outputId": "b677e542-0319-4b8a-a0b2-fe337054d62d"
      },
      "execution_count": null,
      "outputs": [
        {
          "output_type": "display_data",
          "data": {
            "text/plain": [
              "<Figure size 432x288 with 1 Axes>"
            ],
            "image/png": "[encoded data removed]"
          },
          "metadata": {
            "needs_background": "light"
          }
        }
      ]
    }
  ]
}